{
  "nbformat": 4,
  "nbformat_minor": 0,
  "metadata": {
    "kernelspec": {
      "name": "python3",
      "display_name": "Python 3"
    },
    "language_info": {
      "codemirror_mode": {
        "name": "ipython",
        "version": 3
      },
      "file_extension": ".py",
      "mimetype": "text/x-python",
      "name": "python",
      "nbconvert_exporter": "python",
      "pygments_lexer": "ipython3",
      "version": "3.6.5"
    },
    "colab": {
      "name": "11 Amazon Fine Food Reviews Analysis_Truncated SVD.ipynb",
      "version": "0.3.2",
      "provenance": [],
      "collapsed_sections": [
        "8cJCfp2akurX",
        "ro3U5EBbkura",
        "JUJ9gDFKkurj",
        "_1r0JkQQkurw",
        "X6vC0Yyvkurx",
        "Q5PBvU3Zkur2",
        "Dqwjqrk-kusb"
      ],
      "machine_shape": "hm"
    },
    "accelerator": "GPU"
  },
  "cells": [
    {
      "cell_type": "markdown",
      "metadata": {
        "id": "pr9SODQ1kupk",
        "colab_type": "text"
      },
      "source": [
        "# Amazon Fine Food Reviews Analysis\n",
        "\n",
        "\n",
        "Data Source: https://www.kaggle.com/snap/amazon-fine-food-reviews <br>\n",
        "\n",
        "EDA: https://nycdatascience.com/blog/student-works/amazon-fine-foods-visualization/\n",
        "\n",
        "\n",
        "The Amazon Fine Food Reviews dataset consists of reviews of fine foods from Amazon.<br>\n",
        "\n",
        "Number of reviews: 568,454<br>\n",
        "Number of users: 256,059<br>\n",
        "Number of products: 74,258<br>\n",
        "Timespan: Oct 1999 - Oct 2012<br>\n",
        "Number of Attributes/Columns in data: 10 \n",
        "\n",
        "Attribute Information:\n",
        "\n",
        "1. Id\n",
        "2. ProductId - unique identifier for the product\n",
        "3. UserId - unqiue identifier for the user\n",
        "4. ProfileName\n",
        "5. HelpfulnessNumerator - number of users who found the review helpful\n",
        "6. HelpfulnessDenominator - number of users who indicated whether they found the review helpful or not\n",
        "7. Score - rating between 1 and 5\n",
        "8. Time - timestamp for the review\n",
        "9. Summary - brief summary of the review\n",
        "10. Text - text of the review\n",
        "\n",
        "\n",
        "#### Objective:\n",
        "Given a review, determine whether the review is positive (rating of 4 or 5) or negative (rating of 1 or 2).\n",
        "\n",
        "<br>\n",
        "[Q] How to determine if a review is positive or negative?<br>\n",
        "<br> \n",
        "[Ans] We could use Score/Rating. A rating of 4 or 5 can be cosnidered as a positive review. A rating of 1 or 2 can be considered as negative one. A review of rating 3 is considered nuetral and such reviews are ignored from our analysis. This is an approximate and proxy way of determining the polarity (positivity/negativity) of a review.\n",
        "\n",
        "\n"
      ]
    },
    {
      "cell_type": "markdown",
      "metadata": {
        "id": "N2R2VgBpkupm",
        "colab_type": "text"
      },
      "source": [
        "# [1]. Reading Data"
      ]
    },
    {
      "cell_type": "markdown",
      "metadata": {
        "colab_type": "text",
        "id": "hck9aiXkhWIo"
      },
      "source": [
        "# Mounting Google Drive locally"
      ]
    },
    {
      "cell_type": "code",
      "metadata": {
        "colab_type": "code",
        "id": "pvY_3B9L9TKL",
        "outputId": "002bc13c-fcfc-4fc0-8c67-072d60ed0e09",
        "colab": {
          "base_uri": "https://localhost:8080/",
          "height": 118
        }
      },
      "source": [
        "from google.colab import drive\n",
        "drive.mount('/content/gdrive')"
      ],
      "execution_count": 1,
      "outputs": [
        {
          "output_type": "stream",
          "text": [
            "Go to this URL in a browser: https://accounts.google.com/o/oauth2/auth?client_id=947318989803-6bn6qk8qdgf4n4g3pfee6491hc0brc4i.apps.googleusercontent.com&redirect_uri=urn%3Aietf%3Awg%3Aoauth%3A2.0%3Aoob&scope=email%20https%3A%2F%2Fwww.googleapis.com%2Fauth%2Fdocs.test%20https%3A%2F%2Fwww.googleapis.com%2Fauth%2Fdrive%20https%3A%2F%2Fwww.googleapis.com%2Fauth%2Fdrive.photos.readonly%20https%3A%2F%2Fwww.googleapis.com%2Fauth%2Fpeopleapi.readonly&response_type=code\n",
            "\n",
            "Enter your authorization code:\n",
            "··········\n",
            "Mounted at /content/gdrive\n"
          ],
          "name": "stdout"
        }
      ]
    },
    {
      "cell_type": "markdown",
      "metadata": {
        "id": "JWIoHBmPkupo",
        "colab_type": "text"
      },
      "source": [
        "## [1.1] Loading the data\n",
        "\n",
        "The dataset is available in two forms\n",
        "1. .csv file\n",
        "2. SQLite Database\n",
        "\n",
        "In order to load the data, We have used the SQLITE dataset as it is easier to query the data and visualise the data efficiently.\n",
        "<br> \n",
        "\n",
        "Here as we only want to get the global sentiment of the recommendations (positive or negative), we will purposefully ignore all Scores equal to 3. If the score is above 3, then the recommendation wil be set to \"positive\". Otherwise, it will be set to \"negative\"."
      ]
    },
    {
      "cell_type": "code",
      "metadata": {
        "id": "01xhmXVvkupq",
        "colab_type": "code",
        "colab": {}
      },
      "source": [
        "%matplotlib inline\n",
        "import warnings\n",
        "warnings.filterwarnings(\"ignore\")\n",
        "\n",
        "\n",
        "import sqlite3\n",
        "import pandas as pd\n",
        "import numpy as np\n",
        "import nltk\n",
        "import string\n",
        "import matplotlib.pyplot as plt\n",
        "import seaborn as sns\n",
        "from sklearn.feature_extraction.text import TfidfTransformer\n",
        "from sklearn.feature_extraction.text import TfidfVectorizer\n",
        "\n",
        "from sklearn.feature_extraction.text import CountVectorizer\n",
        "from sklearn.metrics import confusion_matrix\n",
        "from sklearn import metrics\n",
        "from sklearn.metrics import roc_curve, auc\n",
        "from nltk.stem.porter import PorterStemmer\n",
        "\n",
        "import re\n",
        "# Tutorial about Python regular expressions: https://pymotw.com/2/re/\n",
        "import string\n",
        "from nltk.corpus import stopwords\n",
        "from nltk.stem import PorterStemmer\n",
        "from nltk.stem.wordnet import WordNetLemmatizer\n",
        "\n",
        "from gensim.models import Word2Vec\n",
        "from gensim.models import KeyedVectors\n",
        "import pickle\n",
        "\n",
        "from tqdm import tqdm\n",
        "import os"
      ],
      "execution_count": 0,
      "outputs": []
    },
    {
      "cell_type": "code",
      "metadata": {
        "id": "G3mRvjJtkupy",
        "colab_type": "code",
        "outputId": "bfa3ce52-c9d2-42ab-a05d-0e536f3870a4",
        "colab": {
          "base_uri": "https://localhost:8080/",
          "height": 150
        }
      },
      "source": [
        "# using SQLite Table to read data.\n",
        "con = sqlite3.connect(\"/content/gdrive/My Drive/Dataset/database.sqlite\") \n",
        "\n",
        "# filtering only positive and negative reviews i.e. \n",
        "# not taking into consideration those reviews with Score=3\n",
        "# SELECT * FROM Reviews WHERE Score != 3 LIMIT 500000, will give top 500000 data points\n",
        "# you can change the number to any other number based on your computing power\n",
        "\n",
        "#Using a sample size of 100k datapoints and applyTruncated-SVD on TFIDF\n",
        "filtered_data = pd.read_sql_query(\"\"\" SELECT * FROM Reviews WHERE Score != 3 LIMIT 100000\"\"\", con) \n",
        "\n",
        "# Give reviews with Score>3 a positive rating(1), and reviews with a score<3 a negative rating(0).\n",
        "def partition(x):\n",
        "    if x < 3:\n",
        "        return 0\n",
        "    return 1\n",
        "\n",
        "#changing reviews with score less than 3 to be positive and vice-versa\n",
        "actualScore = filtered_data['Score']\n",
        "positiveNegative = actualScore.map(partition) \n",
        "filtered_data['Score'] = positiveNegative\n",
        "print(\"Number of data points in our data\", filtered_data.shape)\n",
        "filtered_data.head(3)"
      ],
      "execution_count": 3,
      "outputs": [
        {
          "output_type": "stream",
          "text": [
            "Number of data points in our data (100000, 10)\n"
          ],
          "name": "stdout"
        },
        {
          "output_type": "execute_result",
          "data": {
            "text/html": [
              "<div>\n",
              "<style scoped>\n",
              "    .dataframe tbody tr th:only-of-type {\n",
              "        vertical-align: middle;\n",
              "    }\n",
              "\n",
              "    .dataframe tbody tr th {\n",
              "        vertical-align: top;\n",
              "    }\n",
              "\n",
              "    .dataframe thead th {\n",
              "        text-align: right;\n",
              "    }\n",
              "</style>\n",
              "<table border=\"1\" class=\"dataframe\">\n",
              "  <thead>\n",
              "    <tr style=\"text-align: right;\">\n",
              "      <th></th>\n",
              "      <th>Id</th>\n",
              "      <th>ProductId</th>\n",
              "      <th>UserId</th>\n",
              "      <th>ProfileName</th>\n",
              "      <th>HelpfulnessNumerator</th>\n",
              "      <th>HelpfulnessDenominator</th>\n",
              "      <th>Score</th>\n",
              "      <th>Time</th>\n",
              "      <th>Summary</th>\n",
              "      <th>Text</th>\n",
              "    </tr>\n",
              "  </thead>\n",
              "  <tbody>\n",
              "    <tr>\n",
              "      <th>0</th>\n",
              "      <td>1</td>\n",
              "      <td>B001E4KFG0</td>\n",
              "      <td>A3SGXH7AUHU8GW</td>\n",
              "      <td>delmartian</td>\n",
              "      <td>1</td>\n",
              "      <td>1</td>\n",
              "      <td>1</td>\n",
              "      <td>1303862400</td>\n",
              "      <td>Good Quality Dog Food</td>\n",
              "      <td>I have bought several of the Vitality canned d...</td>\n",
              "    </tr>\n",
              "    <tr>\n",
              "      <th>1</th>\n",
              "      <td>2</td>\n",
              "      <td>B00813GRG4</td>\n",
              "      <td>A1D87F6ZCVE5NK</td>\n",
              "      <td>dll pa</td>\n",
              "      <td>0</td>\n",
              "      <td>0</td>\n",
              "      <td>0</td>\n",
              "      <td>1346976000</td>\n",
              "      <td>Not as Advertised</td>\n",
              "      <td>Product arrived labeled as Jumbo Salted Peanut...</td>\n",
              "    </tr>\n",
              "    <tr>\n",
              "      <th>2</th>\n",
              "      <td>3</td>\n",
              "      <td>B000LQOCH0</td>\n",
              "      <td>ABXLMWJIXXAIN</td>\n",
              "      <td>Natalia Corres \"Natalia Corres\"</td>\n",
              "      <td>1</td>\n",
              "      <td>1</td>\n",
              "      <td>1</td>\n",
              "      <td>1219017600</td>\n",
              "      <td>\"Delight\" says it all</td>\n",
              "      <td>This is a confection that has been around a fe...</td>\n",
              "    </tr>\n",
              "  </tbody>\n",
              "</table>\n",
              "</div>"
            ],
            "text/plain": [
              "   Id  ...                                               Text\n",
              "0   1  ...  I have bought several of the Vitality canned d...\n",
              "1   2  ...  Product arrived labeled as Jumbo Salted Peanut...\n",
              "2   3  ...  This is a confection that has been around a fe...\n",
              "\n",
              "[3 rows x 10 columns]"
            ]
          },
          "metadata": {
            "tags": []
          },
          "execution_count": 3
        }
      ]
    },
    {
      "cell_type": "code",
      "metadata": {
        "id": "FRvcT9Cwkup6",
        "colab_type": "code",
        "colab": {}
      },
      "source": [
        "display = pd.read_sql_query(\"\"\"\n",
        "SELECT UserId, ProductId, ProfileName, Time, Score, Text, COUNT(*)\n",
        "FROM Reviews\n",
        "GROUP BY UserId\n",
        "HAVING COUNT(*)>1\n",
        "\"\"\", con)"
      ],
      "execution_count": 0,
      "outputs": []
    },
    {
      "cell_type": "code",
      "metadata": {
        "scrolled": true,
        "id": "4C5w1nwgkup9",
        "colab_type": "code",
        "outputId": "72db1231-b321-496a-8fef-3db85fbce1c2",
        "colab": {
          "base_uri": "https://localhost:8080/",
          "height": 207
        }
      },
      "source": [
        "\n",
        "print(display.shape)\n",
        "display.head()"
      ],
      "execution_count": 0,
      "outputs": [
        {
          "output_type": "stream",
          "text": [
            "(80668, 7)\n"
          ],
          "name": "stdout"
        },
        {
          "output_type": "execute_result",
          "data": {
            "text/html": [
              "<div>\n",
              "<style scoped>\n",
              "    .dataframe tbody tr th:only-of-type {\n",
              "        vertical-align: middle;\n",
              "    }\n",
              "\n",
              "    .dataframe tbody tr th {\n",
              "        vertical-align: top;\n",
              "    }\n",
              "\n",
              "    .dataframe thead th {\n",
              "        text-align: right;\n",
              "    }\n",
              "</style>\n",
              "<table border=\"1\" class=\"dataframe\">\n",
              "  <thead>\n",
              "    <tr style=\"text-align: right;\">\n",
              "      <th></th>\n",
              "      <th>UserId</th>\n",
              "      <th>ProductId</th>\n",
              "      <th>ProfileName</th>\n",
              "      <th>Time</th>\n",
              "      <th>Score</th>\n",
              "      <th>Text</th>\n",
              "      <th>COUNT(*)</th>\n",
              "    </tr>\n",
              "  </thead>\n",
              "  <tbody>\n",
              "    <tr>\n",
              "      <th>0</th>\n",
              "      <td>#oc-R115TNMSPFT9I7</td>\n",
              "      <td>B007Y59HVM</td>\n",
              "      <td>Breyton</td>\n",
              "      <td>1331510400</td>\n",
              "      <td>2</td>\n",
              "      <td>Overall its just OK when considering the price...</td>\n",
              "      <td>2</td>\n",
              "    </tr>\n",
              "    <tr>\n",
              "      <th>1</th>\n",
              "      <td>#oc-R11D9D7SHXIJB9</td>\n",
              "      <td>B005HG9ET0</td>\n",
              "      <td>Louis E. Emory \"hoppy\"</td>\n",
              "      <td>1342396800</td>\n",
              "      <td>5</td>\n",
              "      <td>My wife has recurring extreme muscle spasms, u...</td>\n",
              "      <td>3</td>\n",
              "    </tr>\n",
              "    <tr>\n",
              "      <th>2</th>\n",
              "      <td>#oc-R11DNU2NBKQ23Z</td>\n",
              "      <td>B007Y59HVM</td>\n",
              "      <td>Kim Cieszykowski</td>\n",
              "      <td>1348531200</td>\n",
              "      <td>1</td>\n",
              "      <td>This coffee is horrible and unfortunately not ...</td>\n",
              "      <td>2</td>\n",
              "    </tr>\n",
              "    <tr>\n",
              "      <th>3</th>\n",
              "      <td>#oc-R11O5J5ZVQE25C</td>\n",
              "      <td>B005HG9ET0</td>\n",
              "      <td>Penguin Chick</td>\n",
              "      <td>1346889600</td>\n",
              "      <td>5</td>\n",
              "      <td>This will be the bottle that you grab from the...</td>\n",
              "      <td>3</td>\n",
              "    </tr>\n",
              "    <tr>\n",
              "      <th>4</th>\n",
              "      <td>#oc-R12KPBODL2B5ZD</td>\n",
              "      <td>B007OSBE1U</td>\n",
              "      <td>Christopher P. Presta</td>\n",
              "      <td>1348617600</td>\n",
              "      <td>1</td>\n",
              "      <td>I didnt like this coffee. Instead of telling y...</td>\n",
              "      <td>2</td>\n",
              "    </tr>\n",
              "  </tbody>\n",
              "</table>\n",
              "</div>"
            ],
            "text/plain": [
              "               UserId  ... COUNT(*)\n",
              "0  #oc-R115TNMSPFT9I7  ...        2\n",
              "1  #oc-R11D9D7SHXIJB9  ...        3\n",
              "2  #oc-R11DNU2NBKQ23Z  ...        2\n",
              "3  #oc-R11O5J5ZVQE25C  ...        3\n",
              "4  #oc-R12KPBODL2B5ZD  ...        2\n",
              "\n",
              "[5 rows x 7 columns]"
            ]
          },
          "metadata": {
            "tags": []
          },
          "execution_count": 8
        }
      ]
    },
    {
      "cell_type": "code",
      "metadata": {
        "id": "-rqtZxKCkuqB",
        "colab_type": "code",
        "outputId": "a9976f3a-5f91-4a98-a02d-027ca9abd684",
        "colab": {
          "base_uri": "https://localhost:8080/",
          "height": 76
        }
      },
      "source": [
        "display[display['UserId']=='AZY10LLTJ71NX']"
      ],
      "execution_count": 0,
      "outputs": [
        {
          "output_type": "execute_result",
          "data": {
            "text/html": [
              "<div>\n",
              "<style scoped>\n",
              "    .dataframe tbody tr th:only-of-type {\n",
              "        vertical-align: middle;\n",
              "    }\n",
              "\n",
              "    .dataframe tbody tr th {\n",
              "        vertical-align: top;\n",
              "    }\n",
              "\n",
              "    .dataframe thead th {\n",
              "        text-align: right;\n",
              "    }\n",
              "</style>\n",
              "<table border=\"1\" class=\"dataframe\">\n",
              "  <thead>\n",
              "    <tr style=\"text-align: right;\">\n",
              "      <th></th>\n",
              "      <th>UserId</th>\n",
              "      <th>ProductId</th>\n",
              "      <th>ProfileName</th>\n",
              "      <th>Time</th>\n",
              "      <th>Score</th>\n",
              "      <th>Text</th>\n",
              "      <th>COUNT(*)</th>\n",
              "    </tr>\n",
              "  </thead>\n",
              "  <tbody>\n",
              "    <tr>\n",
              "      <th>80638</th>\n",
              "      <td>AZY10LLTJ71NX</td>\n",
              "      <td>B006P7E5ZI</td>\n",
              "      <td>undertheshrine \"undertheshrine\"</td>\n",
              "      <td>1334707200</td>\n",
              "      <td>5</td>\n",
              "      <td>I was recommended to try green tea extract to ...</td>\n",
              "      <td>5</td>\n",
              "    </tr>\n",
              "  </tbody>\n",
              "</table>\n",
              "</div>"
            ],
            "text/plain": [
              "              UserId  ... COUNT(*)\n",
              "80638  AZY10LLTJ71NX  ...        5\n",
              "\n",
              "[1 rows x 7 columns]"
            ]
          },
          "metadata": {
            "tags": []
          },
          "execution_count": 9
        }
      ]
    },
    {
      "cell_type": "code",
      "metadata": {
        "id": "sQn-x1dykuqE",
        "colab_type": "code",
        "outputId": "c3965095-302b-4bd3-a7ce-d067b9272846",
        "colab": {
          "base_uri": "https://localhost:8080/",
          "height": 33
        }
      },
      "source": [
        "display['COUNT(*)'].sum()"
      ],
      "execution_count": 0,
      "outputs": [
        {
          "output_type": "execute_result",
          "data": {
            "text/plain": [
              "393063"
            ]
          },
          "metadata": {
            "tags": []
          },
          "execution_count": 10
        }
      ]
    },
    {
      "cell_type": "markdown",
      "metadata": {
        "id": "bgIIzauakuqH",
        "colab_type": "text"
      },
      "source": [
        "#  [2] Exploratory Data Analysis"
      ]
    },
    {
      "cell_type": "markdown",
      "metadata": {
        "id": "y7_vbmrIkuqI",
        "colab_type": "text"
      },
      "source": [
        "## [2.1] Data Cleaning: Deduplication\n",
        "\n",
        "It is observed (as shown in the table below) that the reviews data had many duplicate entries. Hence it was necessary to remove duplicates in order to get unbiased results for the analysis of the data.  Following is an example:"
      ]
    },
    {
      "cell_type": "code",
      "metadata": {
        "scrolled": false,
        "id": "2oUVl4nIkuqJ",
        "colab_type": "code",
        "outputId": "665b765d-c37d-4038-a879-f743f5ef5408",
        "colab": {
          "base_uri": "https://localhost:8080/",
          "height": 353
        }
      },
      "source": [
        "display= pd.read_sql_query(\"\"\"\n",
        "SELECT *\n",
        "FROM Reviews\n",
        "WHERE Score != 3 AND UserId=\"AR5J8UI46CURR\"\n",
        "ORDER BY ProductID\n",
        "\"\"\", con)\n",
        "display.head()"
      ],
      "execution_count": 0,
      "outputs": [
        {
          "output_type": "execute_result",
          "data": {
            "text/html": [
              "<div>\n",
              "<style scoped>\n",
              "    .dataframe tbody tr th:only-of-type {\n",
              "        vertical-align: middle;\n",
              "    }\n",
              "\n",
              "    .dataframe tbody tr th {\n",
              "        vertical-align: top;\n",
              "    }\n",
              "\n",
              "    .dataframe thead th {\n",
              "        text-align: right;\n",
              "    }\n",
              "</style>\n",
              "<table border=\"1\" class=\"dataframe\">\n",
              "  <thead>\n",
              "    <tr style=\"text-align: right;\">\n",
              "      <th></th>\n",
              "      <th>Id</th>\n",
              "      <th>ProductId</th>\n",
              "      <th>UserId</th>\n",
              "      <th>ProfileName</th>\n",
              "      <th>HelpfulnessNumerator</th>\n",
              "      <th>HelpfulnessDenominator</th>\n",
              "      <th>Score</th>\n",
              "      <th>Time</th>\n",
              "      <th>Summary</th>\n",
              "      <th>Text</th>\n",
              "    </tr>\n",
              "  </thead>\n",
              "  <tbody>\n",
              "    <tr>\n",
              "      <th>0</th>\n",
              "      <td>78445</td>\n",
              "      <td>B000HDL1RQ</td>\n",
              "      <td>AR5J8UI46CURR</td>\n",
              "      <td>Geetha Krishnan</td>\n",
              "      <td>2</td>\n",
              "      <td>2</td>\n",
              "      <td>5</td>\n",
              "      <td>1199577600</td>\n",
              "      <td>LOACKER QUADRATINI VANILLA WAFERS</td>\n",
              "      <td>DELICIOUS WAFERS. I FIND THAT EUROPEAN WAFERS ...</td>\n",
              "    </tr>\n",
              "    <tr>\n",
              "      <th>1</th>\n",
              "      <td>138317</td>\n",
              "      <td>B000HDOPYC</td>\n",
              "      <td>AR5J8UI46CURR</td>\n",
              "      <td>Geetha Krishnan</td>\n",
              "      <td>2</td>\n",
              "      <td>2</td>\n",
              "      <td>5</td>\n",
              "      <td>1199577600</td>\n",
              "      <td>LOACKER QUADRATINI VANILLA WAFERS</td>\n",
              "      <td>DELICIOUS WAFERS. I FIND THAT EUROPEAN WAFERS ...</td>\n",
              "    </tr>\n",
              "    <tr>\n",
              "      <th>2</th>\n",
              "      <td>138277</td>\n",
              "      <td>B000HDOPYM</td>\n",
              "      <td>AR5J8UI46CURR</td>\n",
              "      <td>Geetha Krishnan</td>\n",
              "      <td>2</td>\n",
              "      <td>2</td>\n",
              "      <td>5</td>\n",
              "      <td>1199577600</td>\n",
              "      <td>LOACKER QUADRATINI VANILLA WAFERS</td>\n",
              "      <td>DELICIOUS WAFERS. I FIND THAT EUROPEAN WAFERS ...</td>\n",
              "    </tr>\n",
              "    <tr>\n",
              "      <th>3</th>\n",
              "      <td>73791</td>\n",
              "      <td>B000HDOPZG</td>\n",
              "      <td>AR5J8UI46CURR</td>\n",
              "      <td>Geetha Krishnan</td>\n",
              "      <td>2</td>\n",
              "      <td>2</td>\n",
              "      <td>5</td>\n",
              "      <td>1199577600</td>\n",
              "      <td>LOACKER QUADRATINI VANILLA WAFERS</td>\n",
              "      <td>DELICIOUS WAFERS. I FIND THAT EUROPEAN WAFERS ...</td>\n",
              "    </tr>\n",
              "    <tr>\n",
              "      <th>4</th>\n",
              "      <td>155049</td>\n",
              "      <td>B000PAQ75C</td>\n",
              "      <td>AR5J8UI46CURR</td>\n",
              "      <td>Geetha Krishnan</td>\n",
              "      <td>2</td>\n",
              "      <td>2</td>\n",
              "      <td>5</td>\n",
              "      <td>1199577600</td>\n",
              "      <td>LOACKER QUADRATINI VANILLA WAFERS</td>\n",
              "      <td>DELICIOUS WAFERS. I FIND THAT EUROPEAN WAFERS ...</td>\n",
              "    </tr>\n",
              "  </tbody>\n",
              "</table>\n",
              "</div>"
            ],
            "text/plain": [
              "       Id  ...                                               Text\n",
              "0   78445  ...  DELICIOUS WAFERS. I FIND THAT EUROPEAN WAFERS ...\n",
              "1  138317  ...  DELICIOUS WAFERS. I FIND THAT EUROPEAN WAFERS ...\n",
              "2  138277  ...  DELICIOUS WAFERS. I FIND THAT EUROPEAN WAFERS ...\n",
              "3   73791  ...  DELICIOUS WAFERS. I FIND THAT EUROPEAN WAFERS ...\n",
              "4  155049  ...  DELICIOUS WAFERS. I FIND THAT EUROPEAN WAFERS ...\n",
              "\n",
              "[5 rows x 10 columns]"
            ]
          },
          "metadata": {
            "tags": []
          },
          "execution_count": 11
        }
      ]
    },
    {
      "cell_type": "markdown",
      "metadata": {
        "id": "zGPXc3VzkuqO",
        "colab_type": "text"
      },
      "source": [
        "As it can be seen above that same user has multiple reviews with same values for HelpfulnessNumerator, HelpfulnessDenominator, Score, Time, Summary and Text and on doing analysis it was found that <br>\n",
        "<br> \n",
        "ProductId=B000HDOPZG was Loacker Quadratini Vanilla Wafer Cookies, 8.82-Ounce Packages (Pack of 8)<br>\n",
        "<br> \n",
        "ProductId=B000HDL1RQ was Loacker Quadratini Lemon Wafer Cookies, 8.82-Ounce Packages (Pack of 8) and so on<br>\n",
        "\n",
        "It was inferred after analysis that reviews with same parameters other than ProductId belonged to the same product just having different flavour or quantity. Hence in order to reduce redundancy it was decided to eliminate the rows having same parameters.<br>\n",
        "\n",
        "The method used for the same was that we first sort the data according to ProductId and then just keep the first similar product review and delelte the others. for eg. in the above just the review for ProductId=B000HDL1RQ remains. This method ensures that there is only one representative for each product and deduplication without sorting would lead to possibility of different representatives still existing for the same product."
      ]
    },
    {
      "cell_type": "code",
      "metadata": {
        "id": "FXWWOOXMkuqP",
        "colab_type": "code",
        "colab": {}
      },
      "source": [
        "#Sorting data according to ProductId in ascending order\n",
        "sorted_data=filtered_data.sort_values('ProductId', axis=0, ascending=True, inplace=False, kind='quicksort', na_position='last')"
      ],
      "execution_count": 0,
      "outputs": []
    },
    {
      "cell_type": "code",
      "metadata": {
        "id": "vKSY-0aCkuqT",
        "colab_type": "code",
        "outputId": "e8fa62a6-087e-40f0-8785-b628ef5437fc",
        "colab": {
          "base_uri": "https://localhost:8080/",
          "height": 33
        }
      },
      "source": [
        "#Deduplication of entries\n",
        "final=sorted_data.drop_duplicates(subset={\"UserId\",\"ProfileName\",\"Time\",\"Text\"}, keep='first', inplace=False)\n",
        "final.shape"
      ],
      "execution_count": 5,
      "outputs": [
        {
          "output_type": "execute_result",
          "data": {
            "text/plain": [
              "(87775, 10)"
            ]
          },
          "metadata": {
            "tags": []
          },
          "execution_count": 5
        }
      ]
    },
    {
      "cell_type": "code",
      "metadata": {
        "id": "-_rMd_GUkuqZ",
        "colab_type": "code",
        "outputId": "9aafa2ec-6194-40a2-abda-2dcc95be76e3",
        "colab": {
          "base_uri": "https://localhost:8080/",
          "height": 33
        }
      },
      "source": [
        "#Checking to see how much % of data still remains\n",
        "(final['Id'].size*1.0)/(filtered_data['Id'].size*1.0)*100"
      ],
      "execution_count": 8,
      "outputs": [
        {
          "output_type": "execute_result",
          "data": {
            "text/plain": [
              "87.775"
            ]
          },
          "metadata": {
            "tags": []
          },
          "execution_count": 8
        }
      ]
    },
    {
      "cell_type": "markdown",
      "metadata": {
        "id": "8G1VuLYTkuqc",
        "colab_type": "text"
      },
      "source": [
        "<b>Observation:-</b> It was also seen that in two rows given below the value of HelpfulnessNumerator is greater than HelpfulnessDenominator which is not practically possible hence these two rows too are removed from calcualtions"
      ]
    },
    {
      "cell_type": "code",
      "metadata": {
        "id": "jRgu9MT2kuqe",
        "colab_type": "code",
        "outputId": "28e97c6e-5f91-4115-bbcd-1069049e48a8",
        "colab": {
          "base_uri": "https://localhost:8080/",
          "height": 137
        }
      },
      "source": [
        "display= pd.read_sql_query(\"\"\"\n",
        "SELECT *\n",
        "FROM Reviews\n",
        "WHERE Score != 3 AND Id=44737 OR Id=64422\n",
        "ORDER BY ProductID\n",
        "\"\"\", con)\n",
        "\n",
        "display.head()"
      ],
      "execution_count": 9,
      "outputs": [
        {
          "output_type": "execute_result",
          "data": {
            "text/html": [
              "<div>\n",
              "<style scoped>\n",
              "    .dataframe tbody tr th:only-of-type {\n",
              "        vertical-align: middle;\n",
              "    }\n",
              "\n",
              "    .dataframe tbody tr th {\n",
              "        vertical-align: top;\n",
              "    }\n",
              "\n",
              "    .dataframe thead th {\n",
              "        text-align: right;\n",
              "    }\n",
              "</style>\n",
              "<table border=\"1\" class=\"dataframe\">\n",
              "  <thead>\n",
              "    <tr style=\"text-align: right;\">\n",
              "      <th></th>\n",
              "      <th>Id</th>\n",
              "      <th>ProductId</th>\n",
              "      <th>UserId</th>\n",
              "      <th>ProfileName</th>\n",
              "      <th>HelpfulnessNumerator</th>\n",
              "      <th>HelpfulnessDenominator</th>\n",
              "      <th>Score</th>\n",
              "      <th>Time</th>\n",
              "      <th>Summary</th>\n",
              "      <th>Text</th>\n",
              "    </tr>\n",
              "  </thead>\n",
              "  <tbody>\n",
              "    <tr>\n",
              "      <th>0</th>\n",
              "      <td>64422</td>\n",
              "      <td>B000MIDROQ</td>\n",
              "      <td>A161DK06JJMCYF</td>\n",
              "      <td>J. E. Stephens \"Jeanne\"</td>\n",
              "      <td>3</td>\n",
              "      <td>1</td>\n",
              "      <td>5</td>\n",
              "      <td>1224892800</td>\n",
              "      <td>Bought This for My Son at College</td>\n",
              "      <td>My son loves spaghetti so I didn't hesitate or...</td>\n",
              "    </tr>\n",
              "    <tr>\n",
              "      <th>1</th>\n",
              "      <td>44737</td>\n",
              "      <td>B001EQ55RW</td>\n",
              "      <td>A2V0I904FH7ABY</td>\n",
              "      <td>Ram</td>\n",
              "      <td>3</td>\n",
              "      <td>2</td>\n",
              "      <td>4</td>\n",
              "      <td>1212883200</td>\n",
              "      <td>Pure cocoa taste with crunchy almonds inside</td>\n",
              "      <td>It was almost a 'love at first bite' - the per...</td>\n",
              "    </tr>\n",
              "  </tbody>\n",
              "</table>\n",
              "</div>"
            ],
            "text/plain": [
              "      Id  ...                                               Text\n",
              "0  64422  ...  My son loves spaghetti so I didn't hesitate or...\n",
              "1  44737  ...  It was almost a 'love at first bite' - the per...\n",
              "\n",
              "[2 rows x 10 columns]"
            ]
          },
          "metadata": {
            "tags": []
          },
          "execution_count": 9
        }
      ]
    },
    {
      "cell_type": "code",
      "metadata": {
        "id": "_ViHvz7Bkuqh",
        "colab_type": "code",
        "colab": {}
      },
      "source": [
        "final=final[final.HelpfulnessNumerator<=final.HelpfulnessDenominator]"
      ],
      "execution_count": 0,
      "outputs": []
    },
    {
      "cell_type": "code",
      "metadata": {
        "id": "0LWOkHvNkuqk",
        "colab_type": "code",
        "outputId": "a572ad8f-a97e-4284-e881-3f63493acf22",
        "colab": {
          "base_uri": "https://localhost:8080/",
          "height": 82
        }
      },
      "source": [
        "#Before starting the next phase of preprocessing lets see the number of entries left\n",
        "print(final.shape)\n",
        "\n",
        "#How many positive and negative reviews are present in our dataset?\n",
        "final['Score'].value_counts()"
      ],
      "execution_count": 7,
      "outputs": [
        {
          "output_type": "stream",
          "text": [
            "(87773, 10)\n"
          ],
          "name": "stdout"
        },
        {
          "output_type": "execute_result",
          "data": {
            "text/plain": [
              "1    73592\n",
              "0    14181\n",
              "Name: Score, dtype: int64"
            ]
          },
          "metadata": {
            "tags": []
          },
          "execution_count": 7
        }
      ]
    },
    {
      "cell_type": "markdown",
      "metadata": {
        "id": "So1LIujKkuqn",
        "colab_type": "text"
      },
      "source": [
        "#  [3] Preprocessing"
      ]
    },
    {
      "cell_type": "markdown",
      "metadata": {
        "id": "S7SLPaiJkuqo",
        "colab_type": "text"
      },
      "source": [
        "## [3.1].  Preprocessing Review Text\n",
        "\n",
        "Now that we have finished deduplication our data requires some preprocessing before we go on further with analysis and making the prediction model.\n",
        "\n",
        "Hence in the Preprocessing phase we do the following in the order below:-\n",
        "\n",
        "1. Begin by removing the html tags\n",
        "2. Remove any punctuations or limited set of special characters like , or . or # etc.\n",
        "3. Check if the word is made up of english letters and is not alpha-numeric\n",
        "4. Check to see if the length of the word is greater than 2 (as it was researched that there is no adjective in 2-letters)\n",
        "5. Convert the word to lowercase\n",
        "6. Remove Stopwords\n",
        "7. Finally Snowball Stemming the word (it was obsereved to be better than Porter Stemming)<br>\n",
        "\n",
        "After which we collect the words used to describe positive and negative reviews"
      ]
    },
    {
      "cell_type": "code",
      "metadata": {
        "id": "Qrr9TnQ3kuqp",
        "colab_type": "code",
        "outputId": "77252ec7-bc36-4b67-b3b7-c09638deaebd",
        "colab": {
          "base_uri": "https://localhost:8080/",
          "height": 167
        }
      },
      "source": [
        "# printing some random reviews\n",
        "sent_0 = final['Text'].values[0]\n",
        "print(sent_0)\n",
        "print(\"=\"*50)\n",
        "\n",
        "sent_1000 = final['Text'].values[1000]\n",
        "print(sent_1000)\n",
        "print(\"=\"*50)\n",
        "\n",
        "sent_1500 = final['Text'].values[1500]\n",
        "print(sent_1500)\n",
        "print(\"=\"*50)\n",
        "\n",
        "sent_4900 = final['Text'].values[4900]\n",
        "print(sent_4900)\n",
        "print(\"=\"*50)"
      ],
      "execution_count": 9,
      "outputs": [
        {
          "output_type": "stream",
          "text": [
            "My dogs loves this chicken but its a product from China, so we wont be buying it anymore.  Its very hard to find any chicken products made in the USA but they are out there, but this one isnt.  Its too bad too because its a good product but I wont take any chances till they know what is going on with the china imports.\n",
            "==================================================\n",
            "The Candy Blocks were a nice visual for the Lego Birthday party but the candy has little taste to it.  Very little of the 2 lbs that I bought were eaten and I threw the rest away.  I would not buy the candy again.\n",
            "==================================================\n",
            "was way to hot for my blood, took a bite and did a jig  lol\n",
            "==================================================\n",
            "My dog LOVES these treats. They tend to have a very strong fish oil smell. So if you are afraid of the fishy smell, don't get it. But I think my dog likes it because of the smell. These treats are really small in size. They are great for training. You can give your dog several of these without worrying about him over eating. Amazon's price was much more reasonable than any other retailer. You can buy a 1 pound bag on Amazon for almost the same price as a 6 ounce bag at other retailers. It's definitely worth it to buy a big bag if your dog eats them a lot.\n",
            "==================================================\n"
          ],
          "name": "stdout"
        }
      ]
    },
    {
      "cell_type": "code",
      "metadata": {
        "id": "a8atWl8jkuqs",
        "colab_type": "code",
        "outputId": "a6c350ec-9eac-4b58-a85a-a3bf6aa95744",
        "colab": {
          "base_uri": "https://localhost:8080/",
          "height": 53
        }
      },
      "source": [
        "# remove urls from text python: https://stackoverflow.com/a/40823105/4084039\n",
        "sent_0 = re.sub(r\"http\\S+\", \"\", sent_0)\n",
        "sent_1000 = re.sub(r\"http\\S+\", \"\", sent_1000)\n",
        "sent_150 = re.sub(r\"http\\S+\", \"\", sent_1500)\n",
        "sent_4900 = re.sub(r\"http\\S+\", \"\", sent_4900)\n",
        "\n",
        "print(sent_0)"
      ],
      "execution_count": 13,
      "outputs": [
        {
          "output_type": "stream",
          "text": [
            "My dogs loves this chicken but its a product from China, so we wont be buying it anymore.  Its very hard to find any chicken products made in the USA but they are out there, but this one isnt.  Its too bad too because its a good product but I wont take any chances till they know what is going on with the china imports.\n"
          ],
          "name": "stdout"
        }
      ]
    },
    {
      "cell_type": "code",
      "metadata": {
        "id": "B0Rz7ibVkuqv",
        "colab_type": "code",
        "outputId": "ac4a2870-cf7a-4586-8d6f-11990ba47d8e",
        "colab": {
          "base_uri": "https://localhost:8080/",
          "height": 151
        }
      },
      "source": [
        "# https://stackoverflow.com/questions/16206380/python-beautifulsoup-how-to-remove-all-tags-from-an-element\n",
        "from bs4 import BeautifulSoup\n",
        "\n",
        "soup = BeautifulSoup(sent_0, 'lxml')\n",
        "text = soup.get_text()\n",
        "print(text)\n",
        "print(\"=\"*50)\n",
        "\n",
        "soup = BeautifulSoup(sent_1000, 'lxml')\n",
        "text = soup.get_text()\n",
        "print(text)\n",
        "print(\"=\"*50)\n",
        "\n",
        "soup = BeautifulSoup(sent_1500, 'lxml')\n",
        "text = soup.get_text()\n",
        "print(text)\n",
        "print(\"=\"*50)\n",
        "\n",
        "soup = BeautifulSoup(sent_4900, 'lxml')\n",
        "text = soup.get_text()\n",
        "print(text)"
      ],
      "execution_count": 10,
      "outputs": [
        {
          "output_type": "stream",
          "text": [
            "My dogs loves this chicken but its a product from China, so we wont be buying it anymore.  Its very hard to find any chicken products made in the USA but they are out there, but this one isnt.  Its too bad too because its a good product but I wont take any chances till they know what is going on with the china imports.\n",
            "==================================================\n",
            "The Candy Blocks were a nice visual for the Lego Birthday party but the candy has little taste to it.  Very little of the 2 lbs that I bought were eaten and I threw the rest away.  I would not buy the candy again.\n",
            "==================================================\n",
            "was way to hot for my blood, took a bite and did a jig  lol\n",
            "==================================================\n",
            "My dog LOVES these treats. They tend to have a very strong fish oil smell. So if you are afraid of the fishy smell, don't get it. But I think my dog likes it because of the smell. These treats are really small in size. They are great for training. You can give your dog several of these without worrying about him over eating. Amazon's price was much more reasonable than any other retailer. You can buy a 1 pound bag on Amazon for almost the same price as a 6 ounce bag at other retailers. It's definitely worth it to buy a big bag if your dog eats them a lot.\n"
          ],
          "name": "stdout"
        }
      ]
    },
    {
      "cell_type": "code",
      "metadata": {
        "id": "flVqz2FRkuqz",
        "colab_type": "code",
        "colab": {}
      },
      "source": [
        "\n",
        "# https://stackoverflow.com/a/47091490/4084039\n",
        "import re\n",
        "\n",
        "def decontracted(phrase):\n",
        "    # specific\n",
        "    phrase = re.sub(r\"won't\", \"will not\", phrase)\n",
        "    phrase = re.sub(r\"can\\'t\", \"can not\", phrase)\n",
        "\n",
        "    # general\n",
        "    phrase = re.sub(r\"n\\'t\", \" not\", phrase)\n",
        "    phrase = re.sub(r\"\\'re\", \" are\", phrase)\n",
        "    phrase = re.sub(r\"\\'s\", \" is\", phrase)\n",
        "    phrase = re.sub(r\"\\'d\", \" would\", phrase)\n",
        "    phrase = re.sub(r\"\\'ll\", \" will\", phrase)\n",
        "    phrase = re.sub(r\"\\'t\", \" not\", phrase)\n",
        "    phrase = re.sub(r\"\\'ve\", \" have\", phrase)\n",
        "    phrase = re.sub(r\"\\'m\", \" am\", phrase)\n",
        "    return phrase"
      ],
      "execution_count": 0,
      "outputs": []
    },
    {
      "cell_type": "code",
      "metadata": {
        "id": "_-a1DhBpkuq3",
        "colab_type": "code",
        "outputId": "16ec3a2e-d58e-482f-ca85-0a1c71dd633d",
        "colab": {
          "base_uri": "https://localhost:8080/",
          "height": 50
        }
      },
      "source": [
        "sent_1500 = decontracted(sent_1500)\n",
        "print(sent_1500)\n",
        "print(\"=\"*50)"
      ],
      "execution_count": 16,
      "outputs": [
        {
          "output_type": "stream",
          "text": [
            "was way to hot for my blood, took a bite and did a jig  lol\n",
            "==================================================\n"
          ],
          "name": "stdout"
        }
      ]
    },
    {
      "cell_type": "code",
      "metadata": {
        "id": "N3yuR8Nxkuq-",
        "colab_type": "code",
        "outputId": "199acfd8-be13-40f9-c985-60f74aea0929",
        "colab": {
          "base_uri": "https://localhost:8080/",
          "height": 53
        }
      },
      "source": [
        "#remove words with numbers python: https://stackoverflow.com/a/18082370/4084039\n",
        "sent_0 = re.sub(\"\\S*\\d\\S*\", \"\", sent_0).strip()\n",
        "print(sent_0)"
      ],
      "execution_count": 17,
      "outputs": [
        {
          "output_type": "stream",
          "text": [
            "My dogs loves this chicken but its a product from China, so we wont be buying it anymore.  Its very hard to find any chicken products made in the USA but they are out there, but this one isnt.  Its too bad too because its a good product but I wont take any chances till they know what is going on with the china imports.\n"
          ],
          "name": "stdout"
        }
      ]
    },
    {
      "cell_type": "code",
      "metadata": {
        "id": "_dpI7PZjkurF",
        "colab_type": "code",
        "outputId": "b170e5a3-7754-40ca-dbac-b781746ccf0c",
        "colab": {
          "base_uri": "https://localhost:8080/",
          "height": 33
        }
      },
      "source": [
        "\n",
        "#remove spacial character: https://stackoverflow.com/a/5843547/4084039\n",
        "sent_1500 = re.sub('[^A-Za-z0-9]+', ' ', sent_1500)\n",
        "print(sent_1500)"
      ],
      "execution_count": 18,
      "outputs": [
        {
          "output_type": "stream",
          "text": [
            "was way to hot for my blood took a bite and did a jig lol\n"
          ],
          "name": "stdout"
        }
      ]
    },
    {
      "cell_type": "code",
      "metadata": {
        "id": "xarRRVAwkurI",
        "colab_type": "code",
        "colab": {}
      },
      "source": [
        "# https://gist.github.com/sebleier/554280\n",
        "# we are removing the words from the stop words list: 'no', 'nor', 'not'\n",
        "# <br /><br /> ==> after the above steps, we are getting \"br br\"\n",
        "# we are including them into stop words list\n",
        "# instead of <br /> if we have <br/> these tags would have revmoved in the 1st step\n",
        "\n",
        "stopwords= set(['br', 'the', 'i', 'me', 'my', 'myself', 'we', 'our', 'ours', 'ourselves', 'you', \"you're\", \"you've\",\\\n",
        "            \"you'll\", \"you'd\", 'your', 'yours', 'yourself', 'yourselves', 'he', 'him', 'his', 'himself', \\\n",
        "            'she', \"she's\", 'her', 'hers', 'herself', 'it', \"it's\", 'its', 'itself', 'they', 'them', 'their',\\\n",
        "            'theirs', 'themselves', 'what', 'which', 'who', 'whom', 'this', 'that', \"that'll\", 'these', 'those', \\\n",
        "            'am', 'is', 'are', 'was', 'were', 'be', 'been', 'being', 'have', 'has', 'had', 'having', 'do', 'does', \\\n",
        "            'did', 'doing', 'a', 'an', 'the', 'and', 'but', 'if', 'or', 'because', 'as', 'until', 'while', 'of', \\\n",
        "            'at', 'by', 'for', 'with', 'about', 'against', 'between', 'into', 'through', 'during', 'before', 'after',\\\n",
        "            'above', 'below', 'to', 'from', 'up', 'down', 'in', 'out', 'on', 'off', 'over', 'under', 'again', 'further',\\\n",
        "            'then', 'once', 'here', 'there', 'when', 'where', 'why', 'how', 'all', 'any', 'both', 'each', 'few', 'more',\\\n",
        "            'most', 'other', 'some', 'such', 'only', 'own', 'same', 'so', 'than', 'too', 'very', \\\n",
        "            's', 't', 'can', 'will', 'just', 'don', \"don't\", 'should', \"should've\", 'now', 'd', 'll', 'm', 'o', 're', \\\n",
        "            've', 'y', 'ain', 'aren', \"aren't\", 'couldn', \"couldn't\", 'didn', \"didn't\", 'doesn', \"doesn't\", 'hadn',\\\n",
        "            \"hadn't\", 'hasn', \"hasn't\", 'haven', \"haven't\",\"isnt\", \"isn\", \"isn't\", 'ma', 'mightn', \"mightn't\", 'mustn',\\\n",
        "            \"mustn't\", 'needn', \"needn't\", 'shan', \"shan't\", 'shouldn', \"shouldn't\", 'wasn', \"wasn't\", 'weren', \"weren't\", \\\n",
        "            'won', \"won't\", 'wouldn', \"wouldn't\"])"
      ],
      "execution_count": 0,
      "outputs": []
    },
    {
      "cell_type": "code",
      "metadata": {
        "id": "95a_qSylkurL",
        "colab_type": "code",
        "outputId": "327f7052-9c34-435d-e61f-bcdf7d6c256d",
        "colab": {
          "base_uri": "https://localhost:8080/",
          "height": 33
        }
      },
      "source": [
        "# Combining all the above stundents \n",
        "from tqdm import tqdm\n",
        "preprocessed_reviews = []\n",
        "# tqdm is for printing the status bar\n",
        "for sentance in tqdm(final['Text'].values):\n",
        "    sentance = re.sub(r\"http\\S+\", \"\", sentance)\n",
        "    sentance = BeautifulSoup(sentance, 'lxml').get_text()\n",
        "    sentance = decontracted(sentance)\n",
        "    sentance = re.sub(\"\\S*\\d\\S*\", \"\", sentance).strip()\n",
        "    sentance = re.sub('[^A-Za-z]+', ' ', sentance)\n",
        "    # https://gist.github.com/sebleier/554280\n",
        "    sentance = ' '.join(e.lower() for e in sentance.split() if e.lower() not in stopwords)\n",
        "    preprocessed_reviews.append(sentance.strip())"
      ],
      "execution_count": 14,
      "outputs": [
        {
          "output_type": "stream",
          "text": [
            "100%|██████████| 87773/87773 [00:27<00:00, 3154.02it/s]\n"
          ],
          "name": "stderr"
        }
      ]
    },
    {
      "cell_type": "code",
      "metadata": {
        "id": "8BqNqBhOOlyJ",
        "colab_type": "code",
        "outputId": "e38f0e2b-451c-4bb3-a61e-4a9919cda36a",
        "colab": {
          "base_uri": "https://localhost:8080/",
          "height": 33
        }
      },
      "source": [
        "preprocessed_reviews[0]"
      ],
      "execution_count": 15,
      "outputs": [
        {
          "output_type": "execute_result",
          "data": {
            "text/plain": [
              "'dogs loves chicken product china wont buying anymore hard find chicken products made usa one bad good product wont take chances till know going china imports'"
            ]
          },
          "metadata": {
            "tags": []
          },
          "execution_count": 15
        }
      ]
    },
    {
      "cell_type": "code",
      "metadata": {
        "colab_type": "code",
        "id": "e2W_vY8p8ygI",
        "colab": {}
      },
      "source": [
        "final[\"CleanText\"] = [preprocessed_reviews[i] for i in range(len(final))]"
      ],
      "execution_count": 0,
      "outputs": []
    },
    {
      "cell_type": "code",
      "metadata": {
        "colab_type": "code",
        "id": "_6uMrqpiI2lT",
        "outputId": "94292da2-5573-4c7b-8f75-531eda94be83",
        "colab": {
          "base_uri": "https://localhost:8080/",
          "height": 137
        }
      },
      "source": [
        "final.head(2)"
      ],
      "execution_count": 23,
      "outputs": [
        {
          "output_type": "execute_result",
          "data": {
            "text/html": [
              "<div>\n",
              "<style scoped>\n",
              "    .dataframe tbody tr th:only-of-type {\n",
              "        vertical-align: middle;\n",
              "    }\n",
              "\n",
              "    .dataframe tbody tr th {\n",
              "        vertical-align: top;\n",
              "    }\n",
              "\n",
              "    .dataframe thead th {\n",
              "        text-align: right;\n",
              "    }\n",
              "</style>\n",
              "<table border=\"1\" class=\"dataframe\">\n",
              "  <thead>\n",
              "    <tr style=\"text-align: right;\">\n",
              "      <th></th>\n",
              "      <th>Id</th>\n",
              "      <th>ProductId</th>\n",
              "      <th>UserId</th>\n",
              "      <th>ProfileName</th>\n",
              "      <th>HelpfulnessNumerator</th>\n",
              "      <th>HelpfulnessDenominator</th>\n",
              "      <th>Score</th>\n",
              "      <th>Time</th>\n",
              "      <th>Summary</th>\n",
              "      <th>Text</th>\n",
              "      <th>CleanText</th>\n",
              "    </tr>\n",
              "  </thead>\n",
              "  <tbody>\n",
              "    <tr>\n",
              "      <th>22620</th>\n",
              "      <td>24750</td>\n",
              "      <td>2734888454</td>\n",
              "      <td>A13ISQV0U9GZIC</td>\n",
              "      <td>Sandikaye</td>\n",
              "      <td>1</td>\n",
              "      <td>1</td>\n",
              "      <td>0</td>\n",
              "      <td>1192060800</td>\n",
              "      <td>made in china</td>\n",
              "      <td>My dogs loves this chicken but its a product f...</td>\n",
              "      <td>dogs loves chicken product china wont buying a...</td>\n",
              "    </tr>\n",
              "    <tr>\n",
              "      <th>22621</th>\n",
              "      <td>24751</td>\n",
              "      <td>2734888454</td>\n",
              "      <td>A1C298ITT645B6</td>\n",
              "      <td>Hugh G. Pritchard</td>\n",
              "      <td>0</td>\n",
              "      <td>0</td>\n",
              "      <td>1</td>\n",
              "      <td>1195948800</td>\n",
              "      <td>Dog Lover Delites</td>\n",
              "      <td>Our dogs just love them.  I saw them in a pet ...</td>\n",
              "      <td>dogs love saw pet store tag attached regarding...</td>\n",
              "    </tr>\n",
              "  </tbody>\n",
              "</table>\n",
              "</div>"
            ],
            "text/plain": [
              "          Id  ...                                          CleanText\n",
              "22620  24750  ...  dogs loves chicken product china wont buying a...\n",
              "22621  24751  ...  dogs love saw pet store tag attached regarding...\n",
              "\n",
              "[2 rows x 11 columns]"
            ]
          },
          "metadata": {
            "tags": []
          },
          "execution_count": 23
        }
      ]
    },
    {
      "cell_type": "code",
      "metadata": {
        "id": "WrqBZewJlgcX",
        "colab_type": "code",
        "colab": {}
      },
      "source": [
        "final_new = final[final.CleanText != '']"
      ],
      "execution_count": 0,
      "outputs": []
    },
    {
      "cell_type": "code",
      "metadata": {
        "id": "XTxlwByhSRVe",
        "colab_type": "code",
        "outputId": "d8b7ae95-3ed6-4ee7-bead-d859fac372ee",
        "colab": {
          "base_uri": "https://localhost:8080/",
          "height": 33
        }
      },
      "source": [
        "a=0\n",
        "for qu1 in list(final_new['CleanText']):\n",
        "    if len(list(qu1))==0:\n",
        "        print(final_new[final_new['CleanText']== qu1])\n",
        "        a+=1 \n",
        "print(a)"
      ],
      "execution_count": 18,
      "outputs": [
        {
          "output_type": "stream",
          "text": [
            "0\n"
          ],
          "name": "stdout"
        }
      ]
    },
    {
      "cell_type": "code",
      "metadata": {
        "id": "84QPfrwKTvbd",
        "colab_type": "code",
        "outputId": "877e9bd4-dd7b-466b-b935-5be42939516f",
        "colab": {
          "base_uri": "https://localhost:8080/",
          "height": 33
        }
      },
      "source": [
        "len(final)"
      ],
      "execution_count": 19,
      "outputs": [
        {
          "output_type": "execute_result",
          "data": {
            "text/plain": [
              "87773"
            ]
          },
          "metadata": {
            "tags": []
          },
          "execution_count": 19
        }
      ]
    },
    {
      "cell_type": "code",
      "metadata": {
        "id": "x3J1-pjAmPkd",
        "colab_type": "code",
        "outputId": "16b04998-695d-4792-eb8e-833f5f1f381d",
        "colab": {
          "base_uri": "https://localhost:8080/",
          "height": 33
        }
      },
      "source": [
        "len(final_new)"
      ],
      "execution_count": 27,
      "outputs": [
        {
          "output_type": "execute_result",
          "data": {
            "text/plain": [
              "87557"
            ]
          },
          "metadata": {
            "tags": []
          },
          "execution_count": 27
        }
      ]
    },
    {
      "cell_type": "code",
      "metadata": {
        "id": "u9n6ePuzmumc",
        "colab_type": "code",
        "colab": {}
      },
      "source": [
        "final_new[\"CleanText\"] = [preprocessed_reviews[i] for i in range(len(final_new))]"
      ],
      "execution_count": 0,
      "outputs": []
    },
    {
      "cell_type": "code",
      "metadata": {
        "id": "RTp9-iamm4sB",
        "colab_type": "code",
        "outputId": "161ec8a5-4218-4781-f052-ab9f0638521f",
        "colab": {
          "base_uri": "https://localhost:8080/",
          "height": 137
        }
      },
      "source": [
        "final_new.head(2)"
      ],
      "execution_count": 21,
      "outputs": [
        {
          "output_type": "execute_result",
          "data": {
            "text/html": [
              "<div>\n",
              "<style scoped>\n",
              "    .dataframe tbody tr th:only-of-type {\n",
              "        vertical-align: middle;\n",
              "    }\n",
              "\n",
              "    .dataframe tbody tr th {\n",
              "        vertical-align: top;\n",
              "    }\n",
              "\n",
              "    .dataframe thead th {\n",
              "        text-align: right;\n",
              "    }\n",
              "</style>\n",
              "<table border=\"1\" class=\"dataframe\">\n",
              "  <thead>\n",
              "    <tr style=\"text-align: right;\">\n",
              "      <th></th>\n",
              "      <th>Id</th>\n",
              "      <th>ProductId</th>\n",
              "      <th>UserId</th>\n",
              "      <th>ProfileName</th>\n",
              "      <th>HelpfulnessNumerator</th>\n",
              "      <th>HelpfulnessDenominator</th>\n",
              "      <th>Score</th>\n",
              "      <th>Time</th>\n",
              "      <th>Summary</th>\n",
              "      <th>Text</th>\n",
              "      <th>CleanText</th>\n",
              "    </tr>\n",
              "  </thead>\n",
              "  <tbody>\n",
              "    <tr>\n",
              "      <th>22620</th>\n",
              "      <td>24750</td>\n",
              "      <td>2734888454</td>\n",
              "      <td>A13ISQV0U9GZIC</td>\n",
              "      <td>Sandikaye</td>\n",
              "      <td>1</td>\n",
              "      <td>1</td>\n",
              "      <td>0</td>\n",
              "      <td>1192060800</td>\n",
              "      <td>made in china</td>\n",
              "      <td>My dogs loves this chicken but its a product f...</td>\n",
              "      <td>dogs loves chicken product china wont buying a...</td>\n",
              "    </tr>\n",
              "    <tr>\n",
              "      <th>22621</th>\n",
              "      <td>24751</td>\n",
              "      <td>2734888454</td>\n",
              "      <td>A1C298ITT645B6</td>\n",
              "      <td>Hugh G. Pritchard</td>\n",
              "      <td>0</td>\n",
              "      <td>0</td>\n",
              "      <td>1</td>\n",
              "      <td>1195948800</td>\n",
              "      <td>Dog Lover Delites</td>\n",
              "      <td>Our dogs just love them.  I saw them in a pet ...</td>\n",
              "      <td>dogs love saw pet store tag attached regarding...</td>\n",
              "    </tr>\n",
              "  </tbody>\n",
              "</table>\n",
              "</div>"
            ],
            "text/plain": [
              "          Id  ...                                          CleanText\n",
              "22620  24750  ...  dogs loves chicken product china wont buying a...\n",
              "22621  24751  ...  dogs love saw pet store tag attached regarding...\n",
              "\n",
              "[2 rows x 11 columns]"
            ]
          },
          "metadata": {
            "tags": []
          },
          "execution_count": 21
        }
      ]
    },
    {
      "cell_type": "code",
      "metadata": {
        "id": "wmUIq_hUs0Sd",
        "colab_type": "code",
        "outputId": "237a35e8-c737-4a9d-dea0-dc7c98f41aea",
        "colab": {
          "base_uri": "https://localhost:8080/",
          "height": 33
        }
      },
      "source": [
        "j=0\n",
        "for i in preprocessed_reviews:\n",
        "    if i == '':\n",
        "        j+=1\n",
        "print(j)"
      ],
      "execution_count": 22,
      "outputs": [
        {
          "output_type": "stream",
          "text": [
            "216\n"
          ],
          "name": "stdout"
        }
      ]
    },
    {
      "cell_type": "code",
      "metadata": {
        "id": "IKLXkMaPuGpD",
        "colab_type": "code",
        "colab": {}
      },
      "source": [
        "# Remove empty strings from list of strings\n",
        "while(\"\" in preprocessed_reviews) :\n",
        "    preprocessed_reviews.remove(\"\")"
      ],
      "execution_count": 0,
      "outputs": []
    },
    {
      "cell_type": "markdown",
      "metadata": {
        "id": "fDPuJy-RkurS",
        "colab_type": "text"
      },
      "source": [
        "<h2><font color='red'>[3.2] Preprocessing Review Summary</font></h2>"
      ]
    },
    {
      "cell_type": "code",
      "metadata": {
        "id": "2IgEUx-JkurT",
        "colab_type": "code",
        "colab": {}
      },
      "source": [
        "## Similartly you can do preprocessing for review summary also."
      ],
      "execution_count": 0,
      "outputs": []
    },
    {
      "cell_type": "markdown",
      "metadata": {
        "id": "BB1nu-amkurW",
        "colab_type": "text"
      },
      "source": [
        "# [4] Featurization"
      ]
    },
    {
      "cell_type": "markdown",
      "metadata": {
        "id": "8cJCfp2akurX",
        "colab_type": "text"
      },
      "source": [
        "## [4.1] BAG OF WORDS"
      ]
    },
    {
      "cell_type": "code",
      "metadata": {
        "id": "f7XOTNoykurY",
        "colab_type": "code",
        "outputId": "3b25e4a6-7c7c-4508-b937-341ff73467b2",
        "colab": {}
      },
      "source": [
        "#BoW\n",
        "count_vect = CountVectorizer() #in scikit-learn\n",
        "count_vect.fit(preprocessed_reviews)\n",
        "print(\"some feature names \", count_vect.get_feature_names()[:10])\n",
        "print('='*50)\n",
        "\n",
        "final_counts = count_vect.transform(preprocessed_reviews)\n",
        "print(\"the type of count vectorizer \",type(final_counts))\n",
        "print(\"the shape of out text BOW vectorizer \",final_counts.get_shape())\n",
        "print(\"the number of unique words \", final_counts.get_shape()[1])"
      ],
      "execution_count": 0,
      "outputs": [
        {
          "output_type": "stream",
          "text": [
            "some feature names  ['aa', 'aahhhs', 'aback', 'abandon', 'abates', 'abbott', 'abby', 'abdominal', 'abiding', 'ability']\n",
            "==================================================\n",
            "the type of count vectorizer  <class 'scipy.sparse.csr.csr_matrix'>\n",
            "the shape of out text BOW vectorizer  (4986, 12997)\n",
            "the number of unique words  12997\n"
          ],
          "name": "stdout"
        }
      ]
    },
    {
      "cell_type": "markdown",
      "metadata": {
        "id": "ro3U5EBbkura",
        "colab_type": "text"
      },
      "source": [
        "## [4.2] Bi-Grams and n-Grams."
      ]
    },
    {
      "cell_type": "code",
      "metadata": {
        "id": "EasCPnp1kurb",
        "colab_type": "code",
        "outputId": "c5dc07a1-b297-469a-8326-af4bba80e2ea",
        "colab": {}
      },
      "source": [
        "#bi-gram, tri-gram and n-gram\n",
        "\n",
        "#removing stop words like \"not\" should be avoided before building n-grams\n",
        "# count_vect = CountVectorizer(ngram_range=(1,2))\n",
        "# please do read the CountVectorizer documentation http://scikit-learn.org/stable/modules/generated/sklearn.feature_extraction.text.CountVectorizer.html\n",
        "\n",
        "# you can choose these numebrs min_df=10, max_features=5000, of your choice\n",
        "count_vect = CountVectorizer(ngram_range=(1,2), min_df=10, max_features=5000)\n",
        "final_bigram_counts = count_vect.fit_transform(preprocessed_reviews)\n",
        "print(\"the type of count vectorizer \",type(final_bigram_counts))\n",
        "print(\"the shape of out text BOW vectorizer \",final_bigram_counts.get_shape())\n",
        "print(\"the number of unique words including both unigrams and bigrams \", final_bigram_counts.get_shape()[1])"
      ],
      "execution_count": 0,
      "outputs": [
        {
          "output_type": "stream",
          "text": [
            "the type of count vectorizer  <class 'scipy.sparse.csr.csr_matrix'>\n",
            "the shape of out text BOW vectorizer  (4986, 3144)\n",
            "the number of unique words including both unigrams and bigrams  3144\n"
          ],
          "name": "stdout"
        }
      ]
    },
    {
      "cell_type": "markdown",
      "metadata": {
        "id": "UPWhGcZUkure",
        "colab_type": "text"
      },
      "source": [
        "## [4.3] TF-IDF"
      ]
    },
    {
      "cell_type": "code",
      "metadata": {
        "id": "JRUHa2vPkurf",
        "colab_type": "code",
        "outputId": "18bc802a-f9f7-49bf-fed8-a156c3fa3a53",
        "colab": {
          "base_uri": "https://localhost:8080/",
          "height": 82
        }
      },
      "source": [
        "tf_idf_vect = TfidfVectorizer(use_idf = True)\n",
        "tf_idf_vect.fit(final_new[\"CleanText\"].values)\n",
        "print(\"some sample features(unique words in the corpus)\",tf_idf_vect.get_feature_names()[0:10])\n",
        "print('='*50)\n",
        "\n",
        "final_tf_idf = tf_idf_vect.transform(final_new[\"CleanText\"].values)\n",
        "print(\"the type of count vectorizer \",type(final_tf_idf))\n",
        "print(\"the shape of out text TFIDF vectorizer \",final_tf_idf.get_shape())\n",
        "#print(\"the number of unique words including both unigrams and bigrams \", final_tf_idf.get_shape()[1])"
      ],
      "execution_count": 24,
      "outputs": [
        {
          "output_type": "stream",
          "text": [
            "some sample features(unique words in the corpus) ['aa', 'aaa', 'aaaa', 'aaaaa', 'aaaaaaaaaaaa', 'aaaaaaaaaaaaaaa', 'aaaaaaahhhhhh', 'aaaaaaarrrrrggghhh', 'aaaaaawwwwwwwwww', 'aaaaah']\n",
            "==================================================\n",
            "the type of count vectorizer  <class 'scipy.sparse.csr.csr_matrix'>\n",
            "the shape of out text TFIDF vectorizer  (87557, 54842)\n"
          ],
          "name": "stdout"
        }
      ]
    },
    {
      "cell_type": "markdown",
      "metadata": {
        "id": "JUJ9gDFKkurj",
        "colab_type": "text"
      },
      "source": [
        "## [4.4] Word2Vec"
      ]
    },
    {
      "cell_type": "code",
      "metadata": {
        "id": "FalIxrqTkurk",
        "colab_type": "code",
        "colab": {}
      },
      "source": [
        "# Train your own Word2Vec model using your own text corpus\n",
        "i=0\n",
        "list_of_sentance=[]\n",
        "for sentance in preprocessed_reviews:\n",
        "    list_of_sentance.append(sentance.split())"
      ],
      "execution_count": 0,
      "outputs": []
    },
    {
      "cell_type": "code",
      "metadata": {
        "scrolled": true,
        "id": "AFVmuvjQkurn",
        "colab_type": "code",
        "outputId": "e3ada99d-3b5b-49b8-986a-d4424652ef7f",
        "colab": {}
      },
      "source": [
        "# Using Google News Word2Vectors\n",
        "\n",
        "# in this project we are using a pretrained model by google\n",
        "# its 3.3G file, once you load this into your memory \n",
        "# it occupies ~9Gb, so please do this step only if you have >12G of ram\n",
        "# we will provide a pickle file wich contains a dict , \n",
        "# and it contains all our courpus words as keys and  model[word] as values\n",
        "# To use this code-snippet, download \"GoogleNews-vectors-negative300.bin\" \n",
        "# from https://drive.google.com/file/d/0B7XkCwpI5KDYNlNUTTlSS21pQmM/edit\n",
        "# it's 1.9GB in size.\n",
        "\n",
        "\n",
        "# http://kavita-ganesan.com/gensim-word2vec-tutorial-starter-code/#.W17SRFAzZPY\n",
        "# you can comment this whole cell\n",
        "# or change these varible according to your need\n",
        "\n",
        "is_your_ram_gt_16g=False\n",
        "want_to_use_google_w2v = False\n",
        "want_to_train_w2v = True\n",
        "\n",
        "if want_to_train_w2v:\n",
        "    # min_count = 5 considers only words that occured atleast 5 times\n",
        "    w2v_model=Word2Vec(list_of_sentance,min_count=5,size=50, workers=4)\n",
        "    print(w2v_model.wv.most_similar('great'))\n",
        "    print('='*50)\n",
        "    print(w2v_model.wv.most_similar('worst'))\n",
        "    \n",
        "elif want_to_use_google_w2v and is_your_ram_gt_16g:\n",
        "    if os.path.isfile('GoogleNews-vectors-negative300.bin'):\n",
        "        w2v_model=KeyedVectors.load_word2vec_format('GoogleNews-vectors-negative300.bin', binary=True)\n",
        "        print(w2v_model.wv.most_similar('great'))\n",
        "        print(w2v_model.wv.most_similar('worst'))\n",
        "    else:\n",
        "        print(\"you don't have gogole's word2vec file, keep want_to_train_w2v = True, to train your own w2v \")"
      ],
      "execution_count": 0,
      "outputs": [
        {
          "output_type": "stream",
          "text": [
            "[('snack', 0.9951335191726685), ('calorie', 0.9946465492248535), ('wonderful', 0.9946032166481018), ('excellent', 0.9944332838058472), ('especially', 0.9941144585609436), ('baked', 0.9940600395202637), ('salted', 0.994047224521637), ('alternative', 0.9937226176261902), ('tasty', 0.9936816692352295), ('healthy', 0.9936649799346924)]\n",
            "==================================================\n",
            "[('varieties', 0.9994194507598877), ('become', 0.9992934465408325), ('popcorn', 0.9992750883102417), ('de', 0.9992610216140747), ('miss', 0.9992451071739197), ('melitta', 0.999218761920929), ('choice', 0.9992102384567261), ('american', 0.9991837739944458), ('beef', 0.9991780519485474), ('finish', 0.9991567134857178)]\n"
          ],
          "name": "stdout"
        }
      ]
    },
    {
      "cell_type": "code",
      "metadata": {
        "id": "UfO3ccvSkurt",
        "colab_type": "code",
        "outputId": "43e21908-e745-468c-e3d3-e72b69f7d037",
        "colab": {}
      },
      "source": [
        "w2v_words = list(w2v_model.wv.vocab)\n",
        "print(\"number of words that occured minimum 5 times \",len(w2v_words))\n",
        "print(\"sample words \", w2v_words[0:50])"
      ],
      "execution_count": 0,
      "outputs": [
        {
          "output_type": "stream",
          "text": [
            "number of words that occured minimum 5 times  3817\n",
            "sample words  ['product', 'available', 'course', 'total', 'pretty', 'stinky', 'right', 'nearby', 'used', 'ca', 'not', 'beat', 'great', 'received', 'shipment', 'could', 'hardly', 'wait', 'try', 'love', 'call', 'instead', 'removed', 'easily', 'daughter', 'designed', 'printed', 'use', 'car', 'windows', 'beautifully', 'shop', 'program', 'going', 'lot', 'fun', 'everywhere', 'like', 'tv', 'computer', 'really', 'good', 'idea', 'final', 'outstanding', 'window', 'everybody', 'asks', 'bought', 'made']\n"
          ],
          "name": "stdout"
        }
      ]
    },
    {
      "cell_type": "markdown",
      "metadata": {
        "id": "_1r0JkQQkurw",
        "colab_type": "text"
      },
      "source": [
        "## [4.4.1] Converting text into vectors using Avg W2V, TFIDF-W2V"
      ]
    },
    {
      "cell_type": "markdown",
      "metadata": {
        "id": "X6vC0Yyvkurx",
        "colab_type": "text"
      },
      "source": [
        "#### [4.4.1.1] Avg W2v"
      ]
    },
    {
      "cell_type": "code",
      "metadata": {
        "id": "lFA6YXDikury",
        "colab_type": "code",
        "outputId": "f2aff34a-5c72-4994-979e-99bf609eae40",
        "colab": {}
      },
      "source": [
        "# average Word2Vec\n",
        "# compute average word2vec for each review.\n",
        "sent_vectors = []; # the avg-w2v for each sentence/review is stored in this list\n",
        "for sent in tqdm(list_of_sentance): # for each review/sentence\n",
        "    sent_vec = np.zeros(50) # as word vectors are of zero length 50, you might need to change this to 300 if you use google's w2v\n",
        "    cnt_words =0; # num of words with a valid vector in the sentence/review\n",
        "    for word in sent: # for each word in a review/sentence\n",
        "        if word in w2v_words:\n",
        "            vec = w2v_model.wv[word]\n",
        "            sent_vec += vec\n",
        "            cnt_words += 1\n",
        "    if cnt_words != 0:\n",
        "        sent_vec /= cnt_words\n",
        "    sent_vectors.append(sent_vec)\n",
        "print(len(sent_vectors))\n",
        "print(len(sent_vectors[0]))"
      ],
      "execution_count": 0,
      "outputs": [
        {
          "output_type": "stream",
          "text": [
            "100%|████████████████████████████████████████████████████████████████████████████| 4986/4986 [00:03<00:00, 1330.47it/s]\n"
          ],
          "name": "stderr"
        },
        {
          "output_type": "stream",
          "text": [
            "4986\n",
            "50\n"
          ],
          "name": "stdout"
        }
      ]
    },
    {
      "cell_type": "markdown",
      "metadata": {
        "id": "Q5PBvU3Zkur2",
        "colab_type": "text"
      },
      "source": [
        "#### [4.4.1.2] TFIDF weighted W2v"
      ]
    },
    {
      "cell_type": "code",
      "metadata": {
        "id": "Hpbrgblikur4",
        "colab_type": "code",
        "colab": {}
      },
      "source": [
        "# S = [\"abc def pqr\", \"def def def abc\", \"pqr pqr def\"]\n",
        "model = TfidfVectorizer()\n",
        "tf_idf_matrix = model.fit_transform(preprocessed_reviews)\n",
        "# we are converting a dictionary with word as a key, and the idf as a value\n",
        "dictionary = dict(zip(model.get_feature_names(), list(model.idf_)))"
      ],
      "execution_count": 0,
      "outputs": []
    },
    {
      "cell_type": "code",
      "metadata": {
        "scrolled": true,
        "id": "qsBMPDkIkur8",
        "colab_type": "code",
        "outputId": "7c63872c-f0f7-49d1-ca04-70254fbbd7eb",
        "colab": {}
      },
      "source": [
        "# TF-IDF weighted Word2Vec\n",
        "tfidf_feat = model.get_feature_names() # tfidf words/col-names\n",
        "# final_tf_idf is the sparse matrix with row= sentence, col=word and cell_val = tfidf\n",
        "\n",
        "tfidf_sent_vectors = []; # the tfidf-w2v for each sentence/review is stored in this list\n",
        "row=0;\n",
        "for sent in tqdm(list_of_sentance): # for each review/sentence \n",
        "    sent_vec = np.zeros(50) # as word vectors are of zero length\n",
        "    weight_sum =0; # num of words with a valid vector in the sentence/review\n",
        "    for word in sent: # for each word in a review/sentence\n",
        "        if word in w2v_words and word in tfidf_feat:\n",
        "            vec = w2v_model.wv[word]\n",
        "#             tf_idf = tf_idf_matrix[row, tfidf_feat.index(word)]\n",
        "            # to reduce the computation we are \n",
        "            # dictionary[word] = idf value of word in whole courpus\n",
        "            # sent.count(word) = tf valeus of word in this review\n",
        "            tf_idf = dictionary[word]*(sent.count(word)/len(sent))\n",
        "            sent_vec += (vec * tf_idf)\n",
        "            weight_sum += tf_idf\n",
        "    if weight_sum != 0:\n",
        "        sent_vec /= weight_sum\n",
        "    tfidf_sent_vectors.append(sent_vec)\n",
        "    row += 1"
      ],
      "execution_count": 0,
      "outputs": [
        {
          "output_type": "stream",
          "text": [
            "100%|█████████████████████████████████████████████████████████████████████████████| 4986/4986 [00:20<00:00, 245.63it/s]\n"
          ],
          "name": "stderr"
        }
      ]
    },
    {
      "cell_type": "markdown",
      "metadata": {
        "id": "m8LYp26YkusD",
        "colab_type": "text"
      },
      "source": [
        "## Truncated-SVD"
      ]
    },
    {
      "cell_type": "markdown",
      "metadata": {
        "id": "iFoVJBDQXCGF",
        "colab_type": "text"
      },
      "source": [
        "Reference Blogs:<a href='https://medium.com/data-science-group-iitr/word-embedding-2d05d270b285'>blog-1,</a> <a href='https://www.analyticsvidhya.com/blog/2017/06/word-embeddings-count-word2veec/'>blog-2"
      ]
    },
    {
      "cell_type": "markdown",
      "metadata": {
        "id": "Q8Dn5_IvkusD",
        "colab_type": "text"
      },
      "source": [
        "### [5.1] Taking top features from TFIDF,<font color='red'> SET 2</font>"
      ]
    },
    {
      "cell_type": "markdown",
      "metadata": {
        "id": "thfMES09JI9M",
        "colab_type": "text"
      },
      "source": [
        "* if the word is occurring more in the corpus then we will get idf value less and\n",
        "\n",
        "* if we have a rare word in the corpus then we have idf value more. "
      ]
    },
    {
      "cell_type": "code",
      "metadata": {
        "id": "gGi_gGMO2YZE",
        "colab_type": "code",
        "outputId": "4d0673b1-28fa-429e-9e40-44d88dd4f3e0",
        "colab": {
          "base_uri": "https://localhost:8080/",
          "height": 245
        }
      },
      "source": [
        "# Get feature names from tfidf\n",
        "features = tf_idf_vect.get_feature_names()\n",
        "# feature weights based on idf score\n",
        "coef = tf_idf_vect.idf_  #The inverse document frequency (IDF) vector\n",
        "# Store features with their idf score in a dataframe\n",
        "co_matrix_df = pd.DataFrame({'Features' : features, 'Idf_score' : coef})\n",
        "co_matrix_df = co_matrix_df.sort_values(\"Idf_score\", ascending = True)[:3000] #Taking top 3000 features from tf-idf vectorizers using idf_ score.\n",
        "print(\"shape of selected features :\", co_matrix_df.shape)\n",
        "print(\"Top features :\\n\\n\",co_matrix_df[:10])"
      ],
      "execution_count": 25,
      "outputs": [
        {
          "output_type": "stream",
          "text": [
            "shape of selected features : (3000, 2)\n",
            "Top features :\n",
            "\n",
            "       Features  Idf_score\n",
            "32340      not   1.605192\n",
            "27456     like   2.198294\n",
            "20395     good   2.312836\n",
            "20847    great   2.411812\n",
            "33318      one   2.501118\n",
            "47789    taste   2.515726\n",
            "53982    would   2.592148\n",
            "37616  product   2.652829\n",
            "28092     love   2.681443\n",
            "17991   flavor   2.697403\n"
          ],
          "name": "stdout"
        }
      ]
    },
    {
      "cell_type": "markdown",
      "metadata": {
        "id": "a8nCIqnYkusG",
        "colab_type": "text"
      },
      "source": [
        "### [5.2] Calulation of Co-occurrence matrix"
      ]
    },
    {
      "cell_type": "code",
      "metadata": {
        "id": "yZx1ubolthDa",
        "colab_type": "code",
        "colab": {}
      },
      "source": [
        "#creating an empty a[3000][3000] matrix with all zeros\n",
        "zero = np.zeros((len(co_matrix_df[\"Features\"].values), len(co_matrix_df[\"Features\"].values)),dtype=int)"
      ],
      "execution_count": 0,
      "outputs": []
    },
    {
      "cell_type": "code",
      "metadata": {
        "id": "Zfn8SwI03NGr",
        "colab_type": "code",
        "colab": {}
      },
      "source": [
        "#Creating a DataFrame with index = co_matrix_df[\"Features\"].values and columns = co_matrix_df[\"Features\"].values\n",
        "df_zero = pd.DataFrame(zero, index = co_matrix_df[\"Features\"].values, columns = co_matrix_df[\"Features\"].values)"
      ],
      "execution_count": 0,
      "outputs": []
    },
    {
      "cell_type": "code",
      "metadata": {
        "id": "62uJ0tEE3I0d",
        "colab_type": "code",
        "outputId": "34eb9003-6b13-4316-f442-0c889461d570",
        "colab": {
          "base_uri": "https://localhost:8080/",
          "height": 1106
        }
      },
      "source": [
        "#Blog 1: https://medium.com/data-science-group-iitr/word-embedding-2d05d270b285\n",
        "#Blog 2: https://www.analyticsvidhya.com/blog/2017/06/word-embeddings-count-word2veec/\n",
        "#enumerate() Sendex:https://www.youtube.com/watch?v=bOGmYvtw-kk\n",
        "#Pandas .loc[] DataSchool:https://www.youtube.com/watch?v=xvpNA7bC8cs\n",
        "#https://stackoverflow.com/questions/41661801/python-calculate-the-co-occurrence-matrix?noredirect=1&lq=1\n",
        "#Common Vectorizer usage: https://scikit-learn.org/stable/modules/feature_extraction.html#common-vectorizer-usage\n",
        "#df_zero:  https://imgur.com/AbyE9rp\n",
        "#with \"window\" threshold size we can move forward and backward\n",
        "\n",
        "%time\n",
        "window = 4\n",
        "for sent in tqdm(final_new[\"CleanText\"].values):\n",
        "    word = sent.split(\" \")\n",
        "    for idx, dumb in enumerate(word):\n",
        "            for j in range(max(idx-window,0),min(idx+window,len(word))):\n",
        "                if (word[j] != word[idx]):\n",
        "                        try:\n",
        "                            df_zero.loc[word[idx], word[j]] += 1\n",
        "                            df_zero.loc[word[j], word[idx]] += 1\n",
        "                        except:\n",
        "                            pass\n",
        "print(df_zero)"
      ],
      "execution_count": 28,
      "outputs": [
        {
          "output_type": "stream",
          "text": [
            "  0%|          | 2/87557 [00:00<1:17:17, 18.88it/s]"
          ],
          "name": "stderr"
        },
        {
          "output_type": "stream",
          "text": [
            "CPU times: user 2 µs, sys: 0 ns, total: 2 µs\n",
            "Wall time: 5.72 µs\n"
          ],
          "name": "stdout"
        },
        {
          "output_type": "stream",
          "text": [
            "100%|██████████| 87557/87557 [2:44:22<00:00,  8.88it/s]"
          ],
          "name": "stderr"
        },
        {
          "output_type": "stream",
          "text": [
            "                 not   like   good  great  ...  grabbed  joke  weruva  coffe\n",
            "not                0  22087  13131   6653  ...       20    31      44     39\n",
            "like           22087      0   4332   2481  ...       14    20      29     38\n",
            "good           13131   4332      0   2496  ...       15    17       8     41\n",
            "great           6653   2481   2496      0  ...       11     4      11     25\n",
            "one             9082   3587   2694   1661  ...       32    15      10     18\n",
            "taste          15163   9787   6385   5470  ...        4     6       0      6\n",
            "would          12778   4897   3033   1932  ...        8     1      10      7\n",
            "product         8273   2643   3716   5508  ...        3    10       7     10\n",
            "love            4587   2011   1659   2282  ...        4     3      33      9\n",
            "flavor          9828   4378   4066   3922  ...        8     6      26     12\n",
            "get             7885   1849   1727   1469  ...        4     9       6      8\n",
            "no              3684   1870   1507   1417  ...        1    56       7      8\n",
            "really          7570   5371   4801   1827  ...        5     8       6      9\n",
            "much            8099   3003   1181    916  ...        1     3       9      2\n",
            "amazon          4091    836   1349   1859  ...        1     6      15      0\n",
            "time            3828   1065   1198   1147  ...        7     4       3      7\n",
            "also            3967   2393   2315   2008  ...        1     2       7      4\n",
            "best            2718   1391    947    773  ...        0     4       7     14\n",
            "buy             5767   1288   1480   1350  ...        1    13       0      0\n",
            "little          3065   2059   1308   1223  ...       11     5       6      4\n",
            "coffee          8544   5833   4093   3387  ...        6     4       0     33\n",
            "price           3657    852   3576   4065  ...        2    10       2     12\n",
            "tried           4196   1449    996    647  ...        0     1      16     11\n",
            "use             4178   1395   1132   1262  ...        3     4       4      7\n",
            "even            6863   1750   1273    911  ...        5     6       6      2\n",
            "find            5617   1018   1295   1087  ...        2     0       6      1\n",
            "well            3919   1358   1356   1159  ...        2     1      10      4\n",
            "make            4014   1440   1486   1580  ...        3     1       5      6\n",
            "food            6273   2697   1907   1462  ...       10    32     128      0\n",
            "try             3843   1722   1176    713  ...       14     7       6     12\n",
            "...              ...    ...    ...    ...  ...      ...   ...     ...    ...\n",
            "wood              32     50      2      8  ...        0     0       0      0\n",
            "mrs               27     20     11     20  ...        0     0       0      0\n",
            "monster           52     36     10      4  ...        0     0       2      0\n",
            "tbsp              20     10      2     12  ...        0     0       0      2\n",
            "acai              57     28     12      4  ...        0     0       0      0\n",
            "automatically     34     10     12     16  ...        0     0       0      0\n",
            "grandmother       17     25     16     12  ...        0     0       0      0\n",
            "safety            56     12      0      5  ...        0     0       0      0\n",
            "beagle            38     11      4      9  ...        0     0       0      0\n",
            "bath              24     13      8     21  ...        0     0       0      0\n",
            "mixer             40      5     13     20  ...        0     0       0      0\n",
            "plump             50     15     15     26  ...        0     0       0      0\n",
            "grease            72     23     14      6  ...        0     0       0      0\n",
            "refuse            46      9      8     11  ...        0     0       0      0\n",
            "ripped            33     24      9      3  ...        0     0       0      0\n",
            "ensure            51      7     19      9  ...        0     0       0      0\n",
            "forced            20     16      4      2  ...        1     0       0      0\n",
            "stirring          22      6      3     10  ...        0     0       0      0\n",
            "gummies           63     35     21     21  ...        0     0       0      0\n",
            "absorb            53     15      5      1  ...        0     0       0      0\n",
            "notch             21     12     10      8  ...        0     0       0      0\n",
            "teriyaki          65     51     27     12  ...        0     0       0      0\n",
            "bills             26      3      9     11  ...        0     0       0      0\n",
            "issimo            33     12      8     13  ...        0     0       0      3\n",
            "pretzel           68     38     32     18  ...        0     0       0      0\n",
            "ruined            62      4     12     10  ...        0     0       0      0\n",
            "grabbed           20     14     15     11  ...        0     0       0      0\n",
            "joke              31     20     17      4  ...        0     0       0      0\n",
            "weruva            44     29      8     11  ...        0     0       0      0\n",
            "coffe             39     38     41     25  ...        0     0       0      0\n",
            "\n",
            "[3000 rows x 3000 columns]\n"
          ],
          "name": "stdout"
        },
        {
          "output_type": "stream",
          "text": [
            "\n"
          ],
          "name": "stderr"
        }
      ]
    },
    {
      "cell_type": "code",
      "metadata": {
        "id": "a51D0x_5JdkF",
        "colab_type": "code",
        "colab": {}
      },
      "source": [
        "dict = df_zero\n",
        "file = open('/content/gdrive/My Drive/Dataset/pkcl/c_matrix.csv', 'wb')\n",
        "pickle.dump(dict, file)\n",
        "file.close()"
      ],
      "execution_count": 0,
      "outputs": []
    },
    {
      "cell_type": "code",
      "metadata": {
        "id": "i-wcmaclJfQM",
        "colab_type": "code",
        "colab": {}
      },
      "source": [
        "file = open('/content/gdrive/My Drive/Dataset/pkcl/c_matrix.csv', 'rb')\n",
        "matrix = pickle.load(file)"
      ],
      "execution_count": 0,
      "outputs": []
    },
    {
      "cell_type": "code",
      "metadata": {
        "id": "xnjs2msdJ_xD",
        "colab_type": "code",
        "colab": {
          "base_uri": "https://localhost:8080/",
          "height": 152
        },
        "outputId": "da72f02c-ed45-4e44-f858-384c67714294"
      },
      "source": [
        "matrix.head(2)"
      ],
      "execution_count": 33,
      "outputs": [
        {
          "output_type": "execute_result",
          "data": {
            "text/html": [
              "<div>\n",
              "<style scoped>\n",
              "    .dataframe tbody tr th:only-of-type {\n",
              "        vertical-align: middle;\n",
              "    }\n",
              "\n",
              "    .dataframe tbody tr th {\n",
              "        vertical-align: top;\n",
              "    }\n",
              "\n",
              "    .dataframe thead th {\n",
              "        text-align: right;\n",
              "    }\n",
              "</style>\n",
              "<table border=\"1\" class=\"dataframe\">\n",
              "  <thead>\n",
              "    <tr style=\"text-align: right;\">\n",
              "      <th></th>\n",
              "      <th>not</th>\n",
              "      <th>like</th>\n",
              "      <th>good</th>\n",
              "      <th>great</th>\n",
              "      <th>one</th>\n",
              "      <th>taste</th>\n",
              "      <th>would</th>\n",
              "      <th>product</th>\n",
              "      <th>love</th>\n",
              "      <th>flavor</th>\n",
              "      <th>get</th>\n",
              "      <th>no</th>\n",
              "      <th>really</th>\n",
              "      <th>much</th>\n",
              "      <th>amazon</th>\n",
              "      <th>time</th>\n",
              "      <th>also</th>\n",
              "      <th>best</th>\n",
              "      <th>buy</th>\n",
              "      <th>little</th>\n",
              "      <th>coffee</th>\n",
              "      <th>price</th>\n",
              "      <th>tried</th>\n",
              "      <th>use</th>\n",
              "      <th>even</th>\n",
              "      <th>find</th>\n",
              "      <th>well</th>\n",
              "      <th>make</th>\n",
              "      <th>food</th>\n",
              "      <th>try</th>\n",
              "      <th>better</th>\n",
              "      <th>eat</th>\n",
              "      <th>first</th>\n",
              "      <th>could</th>\n",
              "      <th>tea</th>\n",
              "      <th>found</th>\n",
              "      <th>used</th>\n",
              "      <th>bought</th>\n",
              "      <th>made</th>\n",
              "      <th>way</th>\n",
              "      <th>...</th>\n",
              "      <th>considerably</th>\n",
              "      <th>toxic</th>\n",
              "      <th>situation</th>\n",
              "      <th>outer</th>\n",
              "      <th>uk</th>\n",
              "      <th>anybody</th>\n",
              "      <th>compliments</th>\n",
              "      <th>simmer</th>\n",
              "      <th>wasabi</th>\n",
              "      <th>ride</th>\n",
              "      <th>wood</th>\n",
              "      <th>mrs</th>\n",
              "      <th>monster</th>\n",
              "      <th>tbsp</th>\n",
              "      <th>acai</th>\n",
              "      <th>automatically</th>\n",
              "      <th>grandmother</th>\n",
              "      <th>safety</th>\n",
              "      <th>beagle</th>\n",
              "      <th>bath</th>\n",
              "      <th>mixer</th>\n",
              "      <th>plump</th>\n",
              "      <th>grease</th>\n",
              "      <th>refuse</th>\n",
              "      <th>ripped</th>\n",
              "      <th>ensure</th>\n",
              "      <th>forced</th>\n",
              "      <th>stirring</th>\n",
              "      <th>gummies</th>\n",
              "      <th>absorb</th>\n",
              "      <th>notch</th>\n",
              "      <th>teriyaki</th>\n",
              "      <th>bills</th>\n",
              "      <th>issimo</th>\n",
              "      <th>pretzel</th>\n",
              "      <th>ruined</th>\n",
              "      <th>grabbed</th>\n",
              "      <th>joke</th>\n",
              "      <th>weruva</th>\n",
              "      <th>coffe</th>\n",
              "    </tr>\n",
              "  </thead>\n",
              "  <tbody>\n",
              "    <tr>\n",
              "      <th>not</th>\n",
              "      <td>0</td>\n",
              "      <td>22087</td>\n",
              "      <td>13131</td>\n",
              "      <td>6653</td>\n",
              "      <td>9082</td>\n",
              "      <td>15163</td>\n",
              "      <td>12778</td>\n",
              "      <td>8273</td>\n",
              "      <td>4587</td>\n",
              "      <td>9828</td>\n",
              "      <td>7885</td>\n",
              "      <td>3684</td>\n",
              "      <td>7570</td>\n",
              "      <td>8099</td>\n",
              "      <td>4091</td>\n",
              "      <td>3828</td>\n",
              "      <td>3967</td>\n",
              "      <td>2718</td>\n",
              "      <td>5767</td>\n",
              "      <td>3065</td>\n",
              "      <td>8544</td>\n",
              "      <td>3657</td>\n",
              "      <td>4196</td>\n",
              "      <td>4178</td>\n",
              "      <td>6863</td>\n",
              "      <td>5617</td>\n",
              "      <td>3919</td>\n",
              "      <td>4014</td>\n",
              "      <td>6273</td>\n",
              "      <td>3843</td>\n",
              "      <td>3157</td>\n",
              "      <td>6488</td>\n",
              "      <td>2637</td>\n",
              "      <td>7635</td>\n",
              "      <td>6117</td>\n",
              "      <td>2355</td>\n",
              "      <td>2160</td>\n",
              "      <td>1620</td>\n",
              "      <td>2245</td>\n",
              "      <td>2364</td>\n",
              "      <td>...</td>\n",
              "      <td>25</td>\n",
              "      <td>69</td>\n",
              "      <td>37</td>\n",
              "      <td>34</td>\n",
              "      <td>35</td>\n",
              "      <td>67</td>\n",
              "      <td>22</td>\n",
              "      <td>19</td>\n",
              "      <td>66</td>\n",
              "      <td>23</td>\n",
              "      <td>32</td>\n",
              "      <td>27</td>\n",
              "      <td>52</td>\n",
              "      <td>20</td>\n",
              "      <td>57</td>\n",
              "      <td>34</td>\n",
              "      <td>17</td>\n",
              "      <td>56</td>\n",
              "      <td>38</td>\n",
              "      <td>24</td>\n",
              "      <td>40</td>\n",
              "      <td>50</td>\n",
              "      <td>72</td>\n",
              "      <td>46</td>\n",
              "      <td>33</td>\n",
              "      <td>51</td>\n",
              "      <td>20</td>\n",
              "      <td>22</td>\n",
              "      <td>63</td>\n",
              "      <td>53</td>\n",
              "      <td>21</td>\n",
              "      <td>65</td>\n",
              "      <td>26</td>\n",
              "      <td>33</td>\n",
              "      <td>68</td>\n",
              "      <td>62</td>\n",
              "      <td>20</td>\n",
              "      <td>31</td>\n",
              "      <td>44</td>\n",
              "      <td>39</td>\n",
              "    </tr>\n",
              "    <tr>\n",
              "      <th>like</th>\n",
              "      <td>22087</td>\n",
              "      <td>0</td>\n",
              "      <td>4332</td>\n",
              "      <td>2481</td>\n",
              "      <td>3587</td>\n",
              "      <td>9787</td>\n",
              "      <td>4897</td>\n",
              "      <td>2643</td>\n",
              "      <td>2011</td>\n",
              "      <td>4378</td>\n",
              "      <td>1849</td>\n",
              "      <td>1870</td>\n",
              "      <td>5371</td>\n",
              "      <td>3003</td>\n",
              "      <td>836</td>\n",
              "      <td>1065</td>\n",
              "      <td>2393</td>\n",
              "      <td>1391</td>\n",
              "      <td>1288</td>\n",
              "      <td>2059</td>\n",
              "      <td>5833</td>\n",
              "      <td>852</td>\n",
              "      <td>1449</td>\n",
              "      <td>1395</td>\n",
              "      <td>1750</td>\n",
              "      <td>1018</td>\n",
              "      <td>1358</td>\n",
              "      <td>1440</td>\n",
              "      <td>2697</td>\n",
              "      <td>1722</td>\n",
              "      <td>1684</td>\n",
              "      <td>1455</td>\n",
              "      <td>1057</td>\n",
              "      <td>749</td>\n",
              "      <td>3545</td>\n",
              "      <td>698</td>\n",
              "      <td>969</td>\n",
              "      <td>584</td>\n",
              "      <td>959</td>\n",
              "      <td>1056</td>\n",
              "      <td>...</td>\n",
              "      <td>10</td>\n",
              "      <td>22</td>\n",
              "      <td>4</td>\n",
              "      <td>3</td>\n",
              "      <td>13</td>\n",
              "      <td>16</td>\n",
              "      <td>18</td>\n",
              "      <td>9</td>\n",
              "      <td>54</td>\n",
              "      <td>10</td>\n",
              "      <td>50</td>\n",
              "      <td>20</td>\n",
              "      <td>36</td>\n",
              "      <td>10</td>\n",
              "      <td>28</td>\n",
              "      <td>10</td>\n",
              "      <td>25</td>\n",
              "      <td>12</td>\n",
              "      <td>11</td>\n",
              "      <td>13</td>\n",
              "      <td>5</td>\n",
              "      <td>15</td>\n",
              "      <td>23</td>\n",
              "      <td>9</td>\n",
              "      <td>24</td>\n",
              "      <td>7</td>\n",
              "      <td>16</td>\n",
              "      <td>6</td>\n",
              "      <td>35</td>\n",
              "      <td>15</td>\n",
              "      <td>12</td>\n",
              "      <td>51</td>\n",
              "      <td>3</td>\n",
              "      <td>12</td>\n",
              "      <td>38</td>\n",
              "      <td>4</td>\n",
              "      <td>14</td>\n",
              "      <td>20</td>\n",
              "      <td>29</td>\n",
              "      <td>38</td>\n",
              "    </tr>\n",
              "  </tbody>\n",
              "</table>\n",
              "<p>2 rows × 3000 columns</p>\n",
              "</div>"
            ],
            "text/plain": [
              "        not   like   good  great   one  ...  ruined  grabbed  joke  weruva  coffe\n",
              "not       0  22087  13131   6653  9082  ...      62       20    31      44     39\n",
              "like  22087      0   4332   2481  3587  ...       4       14    20      29     38\n",
              "\n",
              "[2 rows x 3000 columns]"
            ]
          },
          "metadata": {
            "tags": []
          },
          "execution_count": 33
        }
      ]
    },
    {
      "cell_type": "code",
      "metadata": {
        "id": "ZOSQtWeTbPSA",
        "colab_type": "code",
        "colab": {}
      },
      "source": [
        ""
      ],
      "execution_count": 0,
      "outputs": []
    },
    {
      "cell_type": "markdown",
      "metadata": {
        "id": "BXsBxG57kusL",
        "colab_type": "text"
      },
      "source": [
        "### [5.3] Finding optimal value for number of components (n) to be retained."
      ]
    },
    {
      "cell_type": "markdown",
      "metadata": {
        "id": "sR6OAzoUhIIh",
        "colab_type": "text"
      },
      "source": [
        "I am trying two approaches here to finding the optimal value for number of components (n) \n",
        "\n",
        "> ploting cumulative explained variance ratio  #Reference: https://www.appliedaicourse.com/lecture/11/applied-machine-learning-online-course/2896/pca-for-dimensionality-reduction-not-visualization/2/module-2-data-science-exploratory-data-analysis-and-data-visualization\n",
        "\n",
        "> By using goal level of explained variance  #Reference: https://chrisalbon.com/machine_learning/feature_engineering/select_best_number_of_components_in_tsvd/"
      ]
    },
    {
      "cell_type": "code",
      "metadata": {
        "id": "fzWaFkWukusM",
        "colab_type": "code",
        "colab": {}
      },
      "source": [
        "from sklearn.decomposition import TruncatedSVD\n",
        "from sklearn.preprocessing import StandardScaler\n",
        "from scipy.sparse import csr_matrix"
      ],
      "execution_count": 0,
      "outputs": []
    },
    {
      "cell_type": "code",
      "metadata": {
        "id": "u4gJ2VLW79BK",
        "colab_type": "code",
        "colab": {}
      },
      "source": [
        "from sklearn.random_projection import sparse_random_matrix"
      ],
      "execution_count": 0,
      "outputs": []
    },
    {
      "cell_type": "code",
      "metadata": {
        "id": "k-tXiCIwUjh0",
        "colab_type": "code",
        "colab": {}
      },
      "source": [
        "#Reference: https://www.appliedaicourse.com/lecture/11/applied-machine-learning-online-course/2896/pca-for-dimensionality-reduction-not-visualization/2/module-2-data-science-exploratory-data-analysis-and-data-visualization"
      ],
      "execution_count": 0,
      "outputs": []
    },
    {
      "cell_type": "code",
      "metadata": {
        "id": "gzKahP_cU3-d",
        "colab_type": "code",
        "outputId": "659bd789-8a7f-4e75-99fb-07f695841c53",
        "colab": {
          "base_uri": "https://localhost:8080/",
          "height": 1173
        }
      },
      "source": [
        "# TSVD for dimensionality redcution (non-visualization)\n",
        "Tsvd = TruncatedSVD(n_components= df_zero.shape[0]-1)\n",
        "Tsvd.fit(df_zero)  \n",
        "\n",
        "percentage_var_explained = Tsvd.explained_variance_ / np.sum(Tsvd.explained_variance_)\n",
        "\n",
        "cum_var_explained = np.cumsum(percentage_var_explained)\n",
        "\n",
        "# Plot the svd spectrum\n",
        "plt.figure(1, figsize=(30, 20))\n",
        "\n",
        "#Tsvd.clf()\n",
        "plt.plot(cum_var_explained, linewidth=2)\n",
        "plt.axis('tight')\n",
        "plt.grid()\n",
        "plt.xlabel('n_components')\n",
        "plt.ylabel('Cumulative_explained_variance')\n",
        "plt.show()\n"
      ],
      "execution_count": 37,
      "outputs": [
        {
          "output_type": "display_data",
          "data": {
            "image/png": "[encoded data removed]",
            "text/plain": [
              "<Figure size 2160x1440 with 1 Axes>"
            ]
          },
          "metadata": {
            "tags": []
          }
        }
      ]
    },
    {
      "cell_type": "code",
      "metadata": {
        "id": "_83NLk9tdYFk",
        "colab_type": "code",
        "colab": {}
      },
      "source": [
        "#If I take 650-dimensions, approx. 98% of variance is expalined."
      ],
      "execution_count": 0,
      "outputs": []
    },
    {
      "cell_type": "markdown",
      "metadata": {
        "id": "PQ3UnRf8ixMK",
        "colab_type": "text"
      },
      "source": [
        "By using goal level of explained variance"
      ]
    },
    {
      "cell_type": "code",
      "metadata": {
        "colab_type": "code",
        "id": "i5eNTL0ygmiD",
        "colab": {}
      },
      "source": [
        "#Reference: https://chrisalbon.com/machine_learning/feature_engineering/select_best_number_of_components_in_tsvd/"
      ],
      "execution_count": 0,
      "outputs": []
    },
    {
      "cell_type": "code",
      "metadata": {
        "colab_type": "code",
        "id": "_DlDmSz6gmi8",
        "colab": {}
      },
      "source": [
        "#Selecting The Best Number Of Components For TSVD\n",
        "# Standardize the feature matrix\n",
        "X = StandardScaler().fit_transform(df_zero)\n",
        "\n",
        "# Make sparse matrix\n",
        "X_sparse = csr_matrix(X)"
      ],
      "execution_count": 0,
      "outputs": []
    },
    {
      "cell_type": "code",
      "metadata": {
        "colab_type": "code",
        "outputId": "9352ff6e-993a-4ba0-f4c7-179658e84a25",
        "id": "_3usflaIgmjB",
        "colab": {
          "base_uri": "https://localhost:8080/",
          "height": 33
        }
      },
      "source": [
        "X_sparse.shape[1]-1"
      ],
      "execution_count": 39,
      "outputs": [
        {
          "output_type": "execute_result",
          "data": {
            "text/plain": [
              "2999"
            ]
          },
          "metadata": {
            "tags": []
          },
          "execution_count": 39
        }
      ]
    },
    {
      "cell_type": "code",
      "metadata": {
        "colab_type": "code",
        "id": "P4e58iWJgmjE",
        "colab": {}
      },
      "source": [
        "#Run Truncated Singular Value Decomposition\n",
        "# Create and run an TSVD with one less than number of features\n",
        "tsvd = TruncatedSVD(n_components=X_sparse.shape[1]-1)\n",
        "X_tsvd = tsvd.fit(X)"
      ],
      "execution_count": 0,
      "outputs": []
    },
    {
      "cell_type": "code",
      "metadata": {
        "colab_type": "code",
        "id": "8CmvSVAEgmjI",
        "colab": {}
      },
      "source": [
        "#Create List Of Explained Variances\n",
        "# List of explained variances\n",
        "tsvd_var_ratios = tsvd.explained_variance_ratio_"
      ],
      "execution_count": 0,
      "outputs": []
    },
    {
      "cell_type": "code",
      "metadata": {
        "colab_type": "code",
        "outputId": "e5808e60-4d68-4625-d58e-158670271708",
        "id": "wu2c8VXmgmjN",
        "colab": {
          "base_uri": "https://localhost:8080/",
          "height": 50
        }
      },
      "source": [
        "tsvd_var_ratios"
      ],
      "execution_count": 0,
      "outputs": [
        {
          "output_type": "execute_result",
          "data": {
            "text/plain": [
              "array([4.48370511e-01, 2.76818632e-02, 2.12915450e-02, ...,\n",
              "       2.73328915e-11, 1.65010003e-11, 2.23450257e-12])"
            ]
          },
          "metadata": {
            "tags": []
          },
          "execution_count": 65
        }
      ]
    },
    {
      "cell_type": "code",
      "metadata": {
        "colab_type": "code",
        "id": "44wiZUYEgmjR",
        "colab": {}
      },
      "source": [
        "#Create Function Calculating Number Of Components Required To Pass Threshold\n",
        "# Create a function\n",
        "def select_n_components(var_ratio, goal_var: float) -> int:\n",
        "    # Set initial variance explained so far\n",
        "    total_variance = 0.0\n",
        "    \n",
        "    # Set initial number of features\n",
        "    n_components = 0\n",
        "    \n",
        "    # For the explained variance of each feature:\n",
        "    for explained_variance in var_ratio:\n",
        "        \n",
        "        # Add the explained variance to the total\n",
        "        total_variance += explained_variance\n",
        "        \n",
        "        # Add one to the number of components\n",
        "        n_components += 1\n",
        "        \n",
        "        # If we reach our goal level of explained variance\n",
        "        if total_variance >= goal_var:\n",
        "            # End the loop\n",
        "            break\n",
        "            \n",
        "    # Return the number of components\n",
        "    return n_components"
      ],
      "execution_count": 0,
      "outputs": []
    },
    {
      "cell_type": "code",
      "metadata": {
        "colab_type": "code",
        "outputId": "6b6a9861-1a71-4afb-f1ac-3498a7ea1871",
        "id": "MTj5KOiegmjU",
        "colab": {
          "base_uri": "https://localhost:8080/",
          "height": 33
        }
      },
      "source": [
        "# Run function\n",
        "select_n_components(tsvd_var_ratios, 0.95)"
      ],
      "execution_count": 0,
      "outputs": [
        {
          "output_type": "execute_result",
          "data": {
            "text/plain": [
              "656"
            ]
          },
          "metadata": {
            "tags": []
          },
          "execution_count": 63
        }
      ]
    },
    {
      "cell_type": "code",
      "metadata": {
        "id": "ZrcA4f_wj1uj",
        "colab_type": "code",
        "colab": {}
      },
      "source": [
        ""
      ],
      "execution_count": 0,
      "outputs": []
    },
    {
      "cell_type": "code",
      "metadata": {
        "id": "u9ftP4CZYn46",
        "colab_type": "code",
        "colab": {}
      },
      "source": [
        ""
      ],
      "execution_count": 0,
      "outputs": []
    },
    {
      "cell_type": "code",
      "metadata": {
        "id": "tTs6yyuvYohb",
        "colab_type": "code",
        "colab": {}
      },
      "source": [
        ""
      ],
      "execution_count": 0,
      "outputs": []
    },
    {
      "cell_type": "code",
      "metadata": {
        "id": "5a7u3djCj1e4",
        "colab_type": "code",
        "outputId": "fdadd8b0-d474-4115-cd4f-099fa13c7f30",
        "colab": {
          "base_uri": "https://localhost:8080/",
          "height": 501
        }
      },
      "source": [
        "# TSVD for dimensionality redcution (non-visualization)\n",
        "Tsvd = TruncatedSVD(n_components= 650)\n",
        "data_tsvd = Tsvd.fit_transform(df_zero)  \n",
        "\n",
        "percentage_var_explained = Tsvd.explained_variance_ / np.sum(Tsvd.explained_variance_)\n",
        "\n",
        "cum_var_explained = np.cumsum(percentage_var_explained)\n",
        "\n",
        "# Plot the svd spectrum\n",
        "plt.figure(1, figsize=(10, 8))\n",
        "\n",
        "#Tsvd.clf()\n",
        "plt.plot(cum_var_explained, linewidth=2)\n",
        "plt.axis('tight')\n",
        "plt.grid()\n",
        "plt.xlabel('n_components')\n",
        "plt.ylabel('Cumulative_explained_variance')\n",
        "plt.show()\n"
      ],
      "execution_count": 42,
      "outputs": [
        {
          "output_type": "display_data",
          "data": {
            "image/png": "[encoded data removed]",
            "text/plain": [
              "<Figure size 720x576 with 1 Axes>"
            ]
          },
          "metadata": {
            "tags": []
          }
        }
      ]
    },
    {
      "cell_type": "markdown",
      "metadata": {
        "id": "lhOOgipBkusO",
        "colab_type": "text"
      },
      "source": [
        "### [5.4] Applying k-means clustering"
      ]
    },
    {
      "cell_type": "code",
      "metadata": {
        "id": "JTRmFA_0kusU",
        "colab_type": "code",
        "colab": {}
      },
      "source": [
        "from sklearn.cluster import KMeans"
      ],
      "execution_count": 0,
      "outputs": []
    },
    {
      "cell_type": "code",
      "metadata": {
        "id": "erUID0xhjbIf",
        "colab_type": "code",
        "outputId": "4f0a6511-3fcc-4657-ab20-e8eedf4db540",
        "colab": {
          "base_uri": "https://localhost:8080/",
          "height": 311
        }
      },
      "source": [
        "k=range(1,10)\n",
        "inertia=[]\n",
        "for i in k:\n",
        "    model=KMeans(n_clusters=i, n_init=20, n_jobs=-1)\n",
        "    model.fit(data)\n",
        "    inertia.append(model.inertia_)\n",
        "#Calculating \"the number of clusters\"\n",
        "n_clusters_ = len(set(model.labels_)) - (1 if -1 in model.labels_ else 0)\n",
        "print(f\"the number of clusters: {n_clusters_}\")\n",
        "\n",
        "#finding best k using elbow method\n",
        "plt.plot(k, inertia, \"-o\")\n",
        "plt.xlabel('K(clusters)')\n",
        "plt.ylabel('Inertia')\n",
        "plt.title('Inertia VS K ')\n",
        "plt.grid()\n",
        "plt.show()"
      ],
      "execution_count": 45,
      "outputs": [
        {
          "output_type": "stream",
          "text": [
            "the number of clusters: 9\n"
          ],
          "name": "stdout"
        },
        {
          "output_type": "display_data",
          "data": {
            "image/png": "[encoded data removed]",
            "text/plain": [
              "<Figure size 432x288 with 1 Axes>"
            ]
          },
          "metadata": {
            "tags": []
          }
        }
      ]
    },
    {
      "cell_type": "code",
      "metadata": {
        "id": "hPLtwvIA-NF_",
        "colab_type": "code",
        "outputId": "b171c5c3-2612-45b2-d813-5a5512e37d5c",
        "colab": {
          "base_uri": "https://localhost:8080/",
          "height": 33
        }
      },
      "source": [
        "#https://medium.com/@shritamkumarmund.98/how-dbscan-algorithm-works-2b5bef80fb3\n",
        "#Computing \"the Silhouette Score\"\n",
        "'''A silhouette score ranges from -1 to 1, \n",
        "with -1 being the worst score possible and\n",
        "1 being the best score. Silhouette scores of 0 suggest overlapping clusters.'''\n",
        "print(f\"Silhouette Coefficient: {metrics.silhouette_score(data, model.labels_)}\")"
      ],
      "execution_count": 46,
      "outputs": [
        {
          "output_type": "stream",
          "text": [
            "Silhouette Coefficient: 0.5856666602061852\n"
          ],
          "name": "stdout"
        }
      ]
    },
    {
      "cell_type": "markdown",
      "metadata": {
        "id": "g3R9U5nskusW",
        "colab_type": "text"
      },
      "source": [
        "### [5.5] Wordclouds of clusters obtained in the above section"
      ]
    },
    {
      "cell_type": "code",
      "metadata": {
        "id": "XO-cNqn8FODc",
        "colab_type": "code",
        "colab": {}
      },
      "source": [
        "Best_Features = [str(i) for i in co_matrix_df[\"Features\"]]"
      ],
      "execution_count": 0,
      "outputs": []
    },
    {
      "cell_type": "code",
      "metadata": {
        "id": "5q7omiSE6hT8",
        "colab_type": "code",
        "colab": {}
      },
      "source": [
        "clusters = []\n",
        "for i in list(set(model.labels_)):\n",
        "    words = []\n",
        "    for word in range(model.labels_.shape[0]):\n",
        "        if (model.labels_[word] == i):\n",
        "            words.append(Best_Features[word])\n",
        "    clusters.append(words)"
      ],
      "execution_count": 0,
      "outputs": []
    },
    {
      "cell_type": "code",
      "metadata": {
        "id": "LEXUOgYak3XF",
        "colab_type": "code",
        "colab": {}
      },
      "source": [
        "import pickle\n",
        "import matplotlib.pyplot as plt"
      ],
      "execution_count": 0,
      "outputs": []
    },
    {
      "cell_type": "code",
      "metadata": {
        "id": "LyqsUs2HepYI",
        "colab_type": "code",
        "colab": {}
      },
      "source": [
        "\n",
        "dict = clusters\n",
        "file = open('/content/gdrive/My Drive/Dataset/pkcl/clusters.txt', 'wb')\n",
        "pickle.dump(dict, file)\n",
        "file.close()\n"
      ],
      "execution_count": 0,
      "outputs": []
    },
    {
      "cell_type": "code",
      "metadata": {
        "id": "oLxH47SwiMjE",
        "colab_type": "code",
        "colab": {}
      },
      "source": [
        "#saving the clusters in a path. If something went wrong and RAM got crassed then I don't need to make Co-occurrence matrix again\n",
        "file = open('/content/gdrive/My Drive/Dataset/pkcl/clusters.txt', 'rb')\n",
        "clusters = pickle.load(file)"
      ],
      "execution_count": 0,
      "outputs": []
    },
    {
      "cell_type": "code",
      "metadata": {
        "id": "GtvqFFLz7v4B",
        "colab_type": "code",
        "colab": {}
      },
      "source": [
        "cluster_1 = list() \n",
        "cluster_2 = list() \n",
        "cluster_3 = list() \n",
        "cluster_4 = list() \n",
        "cluster_5 = list() \n",
        "cluster_6 = list() \n",
        "cluster_7 = list() \n",
        "cluster_8 = list() \n",
        "cluster_9 = list() \n",
        "\n",
        "for i in range(len(clusters)):\n",
        "    if i==0:\n",
        "        for n in clusters[i]:\n",
        "            cluster_1.append(n)\n",
        "\n",
        "    elif i ==1:\n",
        "        for n in clusters[i]:\n",
        "            cluster_2.append(n)\n",
        "\n",
        "    elif i ==2:\n",
        "        for n in clusters[i]:\n",
        "            cluster_3.append(n)\n",
        "\n",
        "    elif i ==3:\n",
        "        for n in clusters[i]:\n",
        "            cluster_4.append(n)\n",
        "\n",
        "    elif i ==4:\n",
        "        for n in clusters[i]:\n",
        "            cluster_5.append(n)\n",
        "\n",
        "    elif i ==5:\n",
        "        for n in clusters[i]:\n",
        "            cluster_6.append(n)   \n",
        "\n",
        "    elif i ==6:\n",
        "        for n in clusters[i]:\n",
        "            cluster_7.append(n)  \n",
        "    \n",
        "    elif i ==7:\n",
        "        for n in clusters[i]:\n",
        "            cluster_8.append(n)\n",
        "\n",
        "    else:\n",
        "        for n in clusters[i]:\n",
        "            cluster_9.append(n) \n",
        "\n",
        "  \n"
      ],
      "execution_count": 0,
      "outputs": []
    },
    {
      "cell_type": "code",
      "metadata": {
        "id": "9tEVROLrGR3j",
        "colab_type": "code",
        "outputId": "633a305a-2810-49bd-80c8-149469fe33e1",
        "colab": {
          "base_uri": "https://localhost:8080/",
          "height": 163
        }
      },
      "source": [
        "print(f\"cluster_1 has {len(cluster_1)} no. of points\")\n",
        "print(f\"cluster_2 has {len(cluster_2)} no. of points\")\n",
        "print(f\"cluster_3 has {len(cluster_3)} no. of points\")\n",
        "print(f\"cluster_4 has {len(cluster_4)} no. of points\")\n",
        "print(f\"cluster_5 has {len(cluster_5)} no. of points\")\n",
        "print(f\"cluster_6 has {len(cluster_6)} no. of points\")\n",
        "print(f\"cluster_7 has {len(cluster_7)} no. of points\")\n",
        "print(f\"cluster_8 has {len(cluster_8)} no. of points\")\n",
        "print(f\"cluster_9 has {len(cluster_9)} no. of points\")\n"
      ],
      "execution_count": 6,
      "outputs": [
        {
          "output_type": "stream",
          "text": [
            "cluster_1 has 2465 no. of points\n",
            "cluster_2 has 2 no. of points\n",
            "cluster_3 has 1 no. of points\n",
            "cluster_4 has 6 no. of points\n",
            "cluster_5 has 31 no. of points\n",
            "cluster_6 has 126 no. of points\n",
            "cluster_7 has 1 no. of points\n",
            "cluster_8 has 2 no. of points\n",
            "cluster_9 has 366 no. of points\n"
          ],
          "name": "stdout"
        }
      ]
    },
    {
      "cell_type": "code",
      "metadata": {
        "id": "GUUZO6WTzlYf",
        "colab_type": "code",
        "colab": {}
      },
      "source": [
        "#https://stackoverflow.com/questions/16645799/how-to-create-a-word-cloud-from-a-corpus-in-python/41727805"
      ],
      "execution_count": 0,
      "outputs": []
    },
    {
      "cell_type": "code",
      "metadata": {
        "id": "FIgdj69tmB8I",
        "colab_type": "code",
        "outputId": "7d006ebc-a11d-4e9a-ade9-31e5808629dc",
        "colab": {
          "base_uri": "https://localhost:8080/",
          "height": 1986
        }
      },
      "source": [
        "#for cluster_1\n",
        "print(f\"Word cloud for cluster_1, words present {len(cluster_1)}\")\n",
        "data=''\n",
        "for i in cluster_1:\n",
        "    data += \" \" + i\n",
        "from wordcloud import WordCloud\n",
        "wordcloud = WordCloud(width=800, height=400,background_color='white',stopwords = {}).generate(data)\n",
        "# Display the wordcloud image:\n",
        "plt.imshow(wordcloud, interpolation='bilinear')\n",
        "plt.axis(\"off\")\n",
        "plt.show()\n",
        "#for cluster_2\n",
        "print(f\"Word cloud for cluster_2, words present {len(cluster_2)}\")\n",
        "data=''\n",
        "for i in cluster_2:\n",
        "    data += \" \" + i\n",
        "from wordcloud import WordCloud\n",
        "wordcloud = WordCloud(background_color=\"white\",stopwords = {}).generate(data)\n",
        "# Display the wordcloud image:\n",
        "plt.imshow(wordcloud, interpolation='bilinear')\n",
        "plt.axis(\"off\")\n",
        "plt.show()\n",
        "#for cluster_3\n",
        "print(f\"Word cloud for cluster_3, words present {len(cluster_3)}\")\n",
        "data=''\n",
        "for i in cluster_3:\n",
        "    data += \" \" + i\n",
        "from wordcloud import WordCloud\n",
        "wordcloud = WordCloud(background_color=\"white\",stopwords = {}).generate(data)\n",
        "# Display the wordcloud image:\n",
        "plt.imshow(wordcloud, interpolation='bilinear')\n",
        "plt.axis(\"off\")\n",
        "plt.show()\n",
        "#for cluster_4\n",
        "print(f\"Word cloud for cluster_4, words present {len(cluster_4)}\")\n",
        "data=''\n",
        "for i in cluster_4:\n",
        "    data += \" \" + i\n",
        "from wordcloud import WordCloud\n",
        "wordcloud = WordCloud(background_color=\"white\",stopwords = {}).generate(data)\n",
        "# Display the wordcloud image:\n",
        "plt.imshow(wordcloud, interpolation='bilinear')\n",
        "plt.axis(\"off\")\n",
        "plt.show()\n",
        "\n",
        "#for cluster_5\n",
        "print(f\"Word cloud for cluster_5, words present {len(cluster_5)}\")\n",
        "data=''\n",
        "for i in cluster_5:\n",
        "    data += \" \" + i\n",
        "from wordcloud import WordCloud\n",
        "wordcloud = WordCloud(background_color=\"white\",stopwords = {}).generate(data)\n",
        "# Display the wordcloud image:\n",
        "plt.imshow(wordcloud, interpolation='bilinear')\n",
        "plt.axis(\"off\")\n",
        "plt.show()\n",
        "\n",
        "#for cluster_6\n",
        "print(f\"Word cloud for cluster_6, words present {len(cluster_6)}\")\n",
        "data=''\n",
        "for i in cluster_6:\n",
        "    data += \" \" + i\n",
        "from wordcloud import WordCloud\n",
        "wordcloud = WordCloud(background_color=\"white\",stopwords = {}).generate(data)\n",
        "# Display the wordcloud image:\n",
        "plt.imshow(wordcloud, interpolation='bilinear')\n",
        "plt.axis(\"off\")\n",
        "plt.show()\n",
        "\n",
        "#for cluster_7\n",
        "print(f\"Word cloud for cluster_7, words present {len(cluster_7)}\")\n",
        "data=''\n",
        "for i in cluster_7:\n",
        "    data += \" \" + i\n",
        "from wordcloud import WordCloud\n",
        "wordcloud = WordCloud(background_color=\"white\",stopwords = {}).generate(data)\n",
        "# Display the wordcloud image:\n",
        "plt.imshow(wordcloud, interpolation='bilinear')\n",
        "plt.axis(\"off\")\n",
        "plt.show()\n",
        "\n",
        "#for cluster_8\n",
        "print(f\"Word cloud for cluster_8, words present {len(cluster_8)}\")\n",
        "data=''\n",
        "for i in cluster_8:\n",
        "    data += \" \" + i\n",
        "from wordcloud import WordCloud\n",
        "wordcloud = WordCloud(background_color=\"white\",stopwords = {}).generate(data)\n",
        "# Display the wordcloud image:\n",
        "plt.imshow(wordcloud, interpolation='bilinear')\n",
        "plt.axis(\"off\")\n",
        "plt.show()\n",
        "\n",
        "#for cluster_9\n",
        "print(f\"Word cloud for cluster_9, words present {len(cluster_9)}\")\n",
        "data=''\n",
        "for i in cluster_9:\n",
        "    data += \" \" + i\n",
        "from wordcloud import WordCloud\n",
        "wordcloud = WordCloud(background_color=\"white\",stopwords = {}).generate(data)\n",
        "# Display the wordcloud image:\n",
        "plt.imshow(wordcloud, interpolation='bilinear')\n",
        "plt.axis(\"off\")\n",
        "plt.show()\n",
        "\n"
      ],
      "execution_count": 11,
      "outputs": [
        {
          "output_type": "stream",
          "text": [
            "Word cloud for cluster_1, words present 2465\n"
          ],
          "name": "stdout"
        },
        {
          "output_type": "display_data",
          "data": {
            "image/png": "[encoded data removed]",
            "text/plain": [
              "<Figure size 432x288 with 1 Axes>"
            ]
          },
          "metadata": {
            "tags": []
          }
        },
        {
          "output_type": "stream",
          "text": [
            "Word cloud for cluster_2, words present 2\n"
          ],
          "name": "stdout"
        },
        {
          "output_type": "display_data",
          "data": {
            "image/png": "[encoded data removed]",
            "text/plain": [
              "<Figure size 432x288 with 1 Axes>"
            ]
          },
          "metadata": {
            "tags": []
          }
        },
        {
          "output_type": "stream",
          "text": [
            "Word cloud for cluster_3, words present 1\n"
          ],
          "name": "stdout"
        },
        {
          "output_type": "display_data",
          "data": {
            "image/png": "[encoded data removed]",
            "text/plain": [
              "<Figure size 432x288 with 1 Axes>"
            ]
          },
          "metadata": {
            "tags": []
          }
        },
        {
          "output_type": "stream",
          "text": [
            "Word cloud for cluster_4, words present 6\n"
          ],
          "name": "stdout"
        },
        {
          "output_type": "display_data",
          "data": {
            "image/png": "[encoded data removed]",
            "text/plain": [
              "<Figure size 432x288 with 1 Axes>"
            ]
          },
          "metadata": {
            "tags": []
          }
        },
        {
          "output_type": "stream",
          "text": [
            "Word cloud for cluster_5, words present 31\n"
          ],
          "name": "stdout"
        },
        {
          "output_type": "display_data",
          "data": {
            "image/png": "[encoded data removed]",
            "text/plain": [
              "<Figure size 432x288 with 1 Axes>"
            ]
          },
          "metadata": {
            "tags": []
          }
        },
        {
          "output_type": "stream",
          "text": [
            "Word cloud for cluster_6, words present 126\n"
          ],
          "name": "stdout"
        },
        {
          "output_type": "display_data",
          "data": {
            "image/png": "[encoded data removed]",
            "text/plain": [
              "<Figure size 432x288 with 1 Axes>"
            ]
          },
          "metadata": {
            "tags": []
          }
        },
        {
          "output_type": "stream",
          "text": [
            "Word cloud for cluster_7, words present 1\n"
          ],
          "name": "stdout"
        },
        {
          "output_type": "display_data",
          "data": {
            "image/png": "[encoded data removed]",
            "text/plain": [
              "<Figure size 432x288 with 1 Axes>"
            ]
          },
          "metadata": {
            "tags": []
          }
        },
        {
          "output_type": "stream",
          "text": [
            "Word cloud for cluster_8, words present 2\n"
          ],
          "name": "stdout"
        },
        {
          "output_type": "display_data",
          "data": {
            "image/png": "[encoded data removed]",
            "text/plain": [
              "<Figure size 432x288 with 1 Axes>"
            ]
          },
          "metadata": {
            "tags": []
          }
        },
        {
          "output_type": "stream",
          "text": [
            "Word cloud for cluster_9, words present 366\n"
          ],
          "name": "stdout"
        },
        {
          "output_type": "display_data",
          "data": {
            "image/png": "[encoded data removed]",
            "text/plain": [
              "<Figure size 432x288 with 1 Axes>"
            ]
          },
          "metadata": {
            "tags": []
          }
        }
      ]
    },
    {
      "cell_type": "markdown",
      "metadata": {
        "id": "75nMFu8Vo8DB",
        "colab_type": "text"
      },
      "source": [
        "**Observation:**\n",
        "In cluster_2 wordcloud reprentation we can see the words like 'great' and 'good', in Cluster_4 we have words like \"Tea\" and \"Coffee\", In Cluster_6 we have words like \"Store\" and \"Bag\". This indicate that all the word are sensible in each clusters. That means the dimention 650 that we got is sensible."
      ]
    },
    {
      "cell_type": "markdown",
      "metadata": {
        "id": "Dqwjqrk-kusb",
        "colab_type": "text"
      },
      "source": [
        "### [5.6] Function that returns most similar words for a given word."
      ]
    },
    {
      "cell_type": "code",
      "metadata": {
        "id": "MGW8wiKCLZJU",
        "colab_type": "code",
        "colab": {}
      },
      "source": [
        "#https://scikit-learn.org/stable/modules/generated/sklearn.metrics.pairwise.cosine_similarity.html\n",
        "from sklearn.metrics.pairwise import cosine_similarity"
      ],
      "execution_count": 0,
      "outputs": []
    },
    {
      "cell_type": "code",
      "metadata": {
        "id": "NAJ0-KCwM49q",
        "colab_type": "code",
        "colab": {}
      },
      "source": [
        "from nltk.stem.snowball import SnowballStemmer\n",
        "from prettytable import PrettyTable"
      ],
      "execution_count": 0,
      "outputs": []
    },
    {
      "cell_type": "code",
      "metadata": {
        "id": "CZLctOj0OoBP",
        "colab_type": "code",
        "colab": {}
      },
      "source": [
        "#https://docs.scipy.org/doc/scipy/reference/tutorial/linalg.html\n",
        "#https://stackoverflow.com/questions/18424228/cosine-similarity-between-2-number-lists\n",
        "\n",
        "from numpy import linalg\n",
        "\n",
        "def cosine_similarity(value1, value2):\n",
        "    \n",
        "    dotprod = np.dot(value1, value2)\n",
        "    normprod = linalg.norm(value1) * linalg.norm(value2)\n",
        "    \n",
        "    cosin_dist = dotprod/normprod\n",
        "    cosin_sim = 1 - cosin_dist\n",
        "    \n",
        "    return (cosin_sim)"
      ],
      "execution_count": 0,
      "outputs": []
    },
    {
      "cell_type": "code",
      "metadata": {
        "id": "eZykln4i3dTR",
        "colab_type": "code",
        "colab": {}
      },
      "source": [
        "def returns_most_similar_words(word):\n",
        "    \n",
        "    sno = SnowballStemmer(language='english')\n",
        "    input_word=(sno.stem(word.lower()))\n",
        "    top_words=list(co_matrix_df[\"Features\"])\n",
        "    \n",
        "    index = None\n",
        "    \n",
        "    if word not in top_words:\n",
        "        print(f\"Word '{word}' is not present.\")\n",
        "    \n",
        "    else:\n",
        "        print(f\"For word '{word}' most similar words: \")\n",
        "        for i in range(len(top_words)):\n",
        "            if input_word == top_words[i]:\n",
        "                index = i\n",
        "                \n",
        "        similarity_values = []\n",
        "        for i in range(data_tsvd.shape[0]): \n",
        "            similarity_values.append(cosine_similarity(data_tsvd[i], data_tsvd[index]))\n",
        "            \n",
        "        similarity_values= np.array(similarity_values)\n",
        "        sorted_index = similarity_values.argsort()\n",
        "\n",
        "        similarity_words = []\n",
        "        similarity_scores = []\n",
        "        for i in range(1, 11):\n",
        "            similarity_words.append(top_words[sorted_index[i]])\n",
        "            simscore = 1 - similarity_values[sorted_index[i]]\n",
        "            similarity_scores.append(simscore)\n",
        "        \n",
        "        table = PrettyTable()\n",
        "        table.add_column(\"Similar Words\", similarity_words)\n",
        "        table.add_column(\"Similarity Scores\", similarity_scores)\n",
        "        print(table)\n",
        "        "
      ],
      "execution_count": 0,
      "outputs": []
    },
    {
      "cell_type": "code",
      "metadata": {
        "id": "D0IBuhMBNFNp",
        "colab_type": "code",
        "colab": {
          "base_uri": "https://localhost:8080/",
          "height": 261
        },
        "outputId": "ce754442-5c3d-4509-9fb4-1d4c8aad1a70"
      },
      "source": [
        "returns_most_similar_words(\"tea\")"
      ],
      "execution_count": 78,
      "outputs": [
        {
          "output_type": "stream",
          "text": [
            "For word 'tea' most similar words: \n",
            "+---------------+--------------------+\n",
            "| Similar Words | Similarity Scores  |\n",
            "+---------------+--------------------+\n",
            "|     coffee    | 0.8301753149476128 |\n",
            "|      also     | 0.8111822276450024 |\n",
            "|     still     | 0.7984751211465887 |\n",
            "|      teas     | 0.7949693316969705 |\n",
            "|     flavor    | 0.7912622682283627 |\n",
            "|     course    |  0.78670185355107  |\n",
            "|      one      | 0.7862521065713114 |\n",
            "|     olives    | 0.7858296610722836 |\n",
            "|     really    | 0.7832637730165124 |\n",
            "|      fact     | 0.7824875122556161 |\n",
            "+---------------+--------------------+\n"
          ],
          "name": "stdout"
        }
      ]
    },
    {
      "cell_type": "code",
      "metadata": {
        "id": "d-TtLboFSXap",
        "colab_type": "code",
        "colab": {
          "base_uri": "https://localhost:8080/",
          "height": 261
        },
        "outputId": "e68f957c-ac04-4423-c78f-c0fbd0833f6a"
      },
      "source": [
        "returns_most_similar_words(\"like\")"
      ],
      "execution_count": 63,
      "outputs": [
        {
          "output_type": "stream",
          "text": [
            "For word 'like' most similar words: \n",
            "+---------------+--------------------+\n",
            "| Similar Words | Similarity Scores  |\n",
            "+---------------+--------------------+\n",
            "|       ok      | 0.9376718387972346 |\n",
            "|      good     | 0.9217353395738282 |\n",
            "|      okay     | 0.9210781252247653 |\n",
            "|      true     | 0.9172397505304584 |\n",
            "|    terrible   | 0.9166586374829859 |\n",
            "|    although   | 0.9159440879894366 |\n",
            "|     liking    | 0.9130205735600214 |\n",
            "|    however    | 0.910591390780306  |\n",
            "|    perhaps    | 0.9092507965002709 |\n",
            "|      bad      | 0.9091276529724434 |\n",
            "+---------------+--------------------+\n"
          ],
          "name": "stdout"
        }
      ]
    },
    {
      "cell_type": "code",
      "metadata": {
        "id": "CSPzznlLShVS",
        "colab_type": "code",
        "colab": {
          "base_uri": "https://localhost:8080/",
          "height": 261
        },
        "outputId": "64b42a8f-b1a6-4972-e001-d92416b03cd7"
      },
      "source": [
        "returns_most_similar_words(\"order\")"
      ],
      "execution_count": 64,
      "outputs": [
        {
          "output_type": "stream",
          "text": [
            "For word 'order' most similar words: \n",
            "+---------------+--------------------+\n",
            "| Similar Words | Similarity Scores  |\n",
            "+---------------+--------------------+\n",
            "|    ordering   | 0.9452310870605548 |\n",
            "|    purchase   | 0.9288570585402267 |\n",
            "|      buy      | 0.9089952014740637 |\n",
            "|    ordered    | 0.9030958673423635 |\n",
            "|      item     | 0.8965523159058947 |\n",
            "|   purchasing  | 0.8939019735502052 |\n",
            "|     buying    | 0.8851537532023238 |\n",
            "|    reorder    | 0.8812893815751778 |\n",
            "|    receive    | 0.8787435566604812 |\n",
            "|     offer     | 0.8757428559124876 |\n",
            "+---------------+--------------------+\n"
          ],
          "name": "stdout"
        }
      ]
    },
    {
      "cell_type": "code",
      "metadata": {
        "id": "5vCpaj7WSlAZ",
        "colab_type": "code",
        "colab": {
          "base_uri": "https://localhost:8080/",
          "height": 261
        },
        "outputId": "fcc19a3d-af5a-4a9f-e08c-c6df69bd4bdd"
      },
      "source": [
        "returns_most_similar_words(\"product\")"
      ],
      "execution_count": 81,
      "outputs": [
        {
          "output_type": "stream",
          "text": [
            "For word 'product' most similar words: \n",
            "+---------------+--------------------+\n",
            "| Similar Words | Similarity Scores  |\n",
            "+---------------+--------------------+\n",
            "|      also     | 0.9035119149083028 |\n",
            "|      item     | 0.9012054714027643 |\n",
            "|     stuff     |  0.89901542969623  |\n",
            "|     still     | 0.8895611661715822 |\n",
            "|     anyway    | 0.8856121941023972 |\n",
            "|     course    | 0.8845083900225769 |\n",
            "|    however    | 0.8840023416704055 |\n",
            "|     think     | 0.8774229896974832 |\n",
            "|       us      | 0.8770602351073469 |\n",
            "|   packaging   | 0.873432140708761  |\n",
            "+---------------+--------------------+\n"
          ],
          "name": "stdout"
        }
      ]
    },
    {
      "cell_type": "code",
      "metadata": {
        "id": "U3gOWbRKSuEu",
        "colab_type": "code",
        "colab": {
          "base_uri": "https://localhost:8080/",
          "height": 33
        },
        "outputId": "1d7a7881-d461-4c09-bed6-e90647aca602"
      },
      "source": [
        "returns_most_similar_words(\"shritam\")"
      ],
      "execution_count": 82,
      "outputs": [
        {
          "output_type": "stream",
          "text": [
            "Word 'shritam' is not present.\n"
          ],
          "name": "stdout"
        }
      ]
    },
    {
      "cell_type": "markdown",
      "metadata": {
        "id": "gjqQgf8qkuse",
        "colab_type": "text"
      },
      "source": [
        "# [6] Conclusions"
      ]
    },
    {
      "cell_type": "code",
      "metadata": {
        "id": "BRDLq-Btkusg",
        "colab_type": "code",
        "colab": {
          "base_uri": "https://localhost:8080/",
          "height": 212
        },
        "outputId": "1991732b-9f3b-4887-a49b-b435ccf3866e"
      },
      "source": [
        "from prettytable import PrettyTable\n",
        "x= PrettyTable()\n",
        "y= PrettyTable()\n",
        "\n",
        "x.field_names = [\"Dimensionality reduction technique\", \"n_components\"]\n",
        "y.field_names = [\"Vectorizer\", \"Model\", \"No. of Clusters\", \"Silhouette Coefficient\"]\n",
        "\n",
        "x.add_row([\"TruncatedSVD\", 650])\n",
        "y.add_row([\"TFIDF\", \"K-Means\", 9, 0.5856666602061852])\n",
        "\n",
        "print(x)\n",
        "print()\n",
        "\n",
        "print(\"Appled K-means:\")\n",
        "print(y)"
      ],
      "execution_count": 92,
      "outputs": [
        {
          "output_type": "stream",
          "text": [
            "+------------------------------------+--------------+\n",
            "| Dimensionality reduction technique | n_components |\n",
            "+------------------------------------+--------------+\n",
            "|            TruncatedSVD            |     650      |\n",
            "+------------------------------------+--------------+\n",
            "\n",
            "Appled K-means:\n",
            "+------------+---------+-----------------+------------------------+\n",
            "| Vectorizer |  Model  | No. of Clusters | Silhouette Coefficient |\n",
            "+------------+---------+-----------------+------------------------+\n",
            "|   TFIDF    | K-Means |        9        |   0.5856666602061852   |\n",
            "+------------+---------+-----------------+------------------------+\n"
          ],
          "name": "stdout"
        }
      ]
    },
    {
      "cell_type": "code",
      "metadata": {
        "id": "bhG-q7cfWgPQ",
        "colab_type": "code",
        "colab": {}
      },
      "source": [
        ""
      ],
      "execution_count": 0,
      "outputs": []
    }
  ]
}